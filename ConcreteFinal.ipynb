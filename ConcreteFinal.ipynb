{
  "nbformat": 4,
  "nbformat_minor": 0,
  "metadata": {
    "colab": {
      "name": "ConcreteFinal.ipynb",
      "provenance": [],
      "collapsed_sections": []
    },
    "kernelspec": {
      "name": "python3",
      "display_name": "Python 3"
    },
    "language_info": {
      "name": "python"
    },
    "accelerator": "GPU"
  },
  "cells": [
    {
      "cell_type": "markdown",
      "metadata": {
        "id": "pEOpvzez0JHj"
      },
      "source": [
        "Assignment: Compresive Strength Concrete Problem\n",
        "Abstract:\n",
        "Concrete is the most important material in civil engineering. The concrete compressive strength (concrete strength to bear the load) is a highly nonlinear function of age and ingredients.\n",
        "\n",
        "\n",
        "Data Set Characteristics:  Multivariate\n",
        "\n",
        "Number of Instances: 1030\n",
        "\n",
        "Area: Physical\n",
        "\n",
        "Attribute Characteristics: Real\n",
        "\n",
        "Number of Attributes: 9\n",
        "\n",
        "Date Donated 2007-08-03\n",
        "\n",
        "Associated Tasks: Regression\n",
        "\n",
        "Missing Values? N/A\n",
        "\n",
        "Number of Web Hits: 231464\n",
        "\n",
        "Description: Features Name\tData Type\tMeasurement\tDescription\n",
        "Cement (component 1)\tquantitative\tkg in a m3 mixture\tInput Variable\n",
        "Blast Furnace Slag (component 2)\tquantitative\tkg in a m3 mixture\tInput Variable\n",
        "\n",
        "Fly Ash (component 3)\tquantitative\tkg in a m3 mixture\tInput Variable\n",
        "Water (component 4)\tquantitative\tkg in a m3 mixture\tInput Variable\n",
        "Superplasticizer (component 5)\tquantitative\tkg in a m3 mixture\tInput Variable\n",
        "Coarse Aggregate (component 6)\tquantitative\tkg in a m3 mixture\tInput Variable\n",
        "Fine Aggregate (component 7)\tquantitative\tkg in a m3 mixture\tInput Variable\n",
        "Age\tquantitative\tDay (1~365)\tInput Variable\n",
        "Concrete compressive strength\tquantitative\tMPa\tOutput Variable\n",
        "\n",
        "WORKFLOW :\n",
        "\n",
        "Load Data\n",
        "\n",
        "Check Missing Values ( If Exist ; Fill each record with mean of its feature )\n",
        "\n",
        "Standardized the Input Variables. Hint: Centeralized the data\n",
        "\n",
        "Split into 50% Training(Samples,Labels) , 30% Test(Samples,Labels) and 20% \n",
        "\n",
        "Validation Data(Samples,Labels).\n",
        "\n",
        "Model : input Layer (No. of features ), 3 hidden layers including 10,8,6 unit & \n",
        "\n",
        "Output Layer with activation function relu/tanh (check by experiment).\n",
        "\n",
        "Compilation Step (Note : Its a Regression problem , select loss , metrics according to it)\n",
        "\n",
        "Train the Model with Epochs (100) and validate it\n",
        "\n",
        "If the model gets overfit tune your model by changing the units , No. of layers , activation function , epochs , add dropout layer or add Regularizer according to the need .\n",
        "\n",
        "Evaluation Step\n",
        "\n",
        "Prediction\n",
        "\n",
        "Load Data:\n",
        "\n"
      ]
    },
    {
      "cell_type": "markdown",
      "metadata": {
        "id": "ANbKFcx8sDTv"
      },
      "source": [
        "Importing Libraries"
      ]
    },
    {
      "cell_type": "code",
      "metadata": {
        "id": "tV_6M2EZ0Kw7"
      },
      "source": [
        "import pandas as pd\n",
        "import numpy as np\n",
        "import matplotlib.pyplot as plt\n",
        "from tensorflow.keras import layers, models, optimizers"
      ],
      "execution_count": 45,
      "outputs": []
    },
    {
      "cell_type": "markdown",
      "metadata": {
        "id": "Oj1AZUnxsJwL"
      },
      "source": [
        "Uploading Datasets"
      ]
    },
    {
      "cell_type": "code",
      "metadata": {
        "id": "tfkTa-TGsHG2"
      },
      "source": [
        "data=pd.read_csv(\"/content/drive/MyDrive/Colab Notebooks/compresive_strength_concrete.csv\")"
      ],
      "execution_count": 46,
      "outputs": []
    },
    {
      "cell_type": "code",
      "metadata": {
        "colab": {
          "base_uri": "https://localhost:8080/"
        },
        "id": "disEYzKZsQQJ",
        "outputId": "6abba001-b00a-4b24-d1c9-7a5df0ad3604"
      },
      "source": [
        "data.shape"
      ],
      "execution_count": 47,
      "outputs": [
        {
          "output_type": "execute_result",
          "data": {
            "text/plain": [
              "(1030, 9)"
            ]
          },
          "metadata": {
            "tags": []
          },
          "execution_count": 47
        }
      ]
    },
    {
      "cell_type": "code",
      "metadata": {
        "colab": {
          "base_uri": "https://localhost:8080/",
          "height": 255
        },
        "id": "GEknbt__tFm3",
        "outputId": "91e9f864-d2ed-4dab-fb1a-a295608e0bb1"
      },
      "source": [
        "data.head()"
      ],
      "execution_count": 49,
      "outputs": [
        {
          "output_type": "execute_result",
          "data": {
            "text/html": [
              "<div>\n",
              "<style scoped>\n",
              "    .dataframe tbody tr th:only-of-type {\n",
              "        vertical-align: middle;\n",
              "    }\n",
              "\n",
              "    .dataframe tbody tr th {\n",
              "        vertical-align: top;\n",
              "    }\n",
              "\n",
              "    .dataframe thead th {\n",
              "        text-align: right;\n",
              "    }\n",
              "</style>\n",
              "<table border=\"1\" class=\"dataframe\">\n",
              "  <thead>\n",
              "    <tr style=\"text-align: right;\">\n",
              "      <th></th>\n",
              "      <th>Cement (component 1)(kg in a m^3 mixture)</th>\n",
              "      <th>Blast Furnace Slag (component 2)(kg in a m^3 mixture)</th>\n",
              "      <th>Fly Ash (component 3)(kg in a m^3 mixture)</th>\n",
              "      <th>Water  (component 4)(kg in a m^3 mixture)</th>\n",
              "      <th>Superplasticizer (component 5)(kg in a m^3 mixture)</th>\n",
              "      <th>Coarse Aggregate  (component 6)(kg in a m^3 mixture)</th>\n",
              "      <th>Fine Aggregate (component 7)(kg in a m^3 mixture)</th>\n",
              "      <th>Age (day)</th>\n",
              "      <th>Concrete compressive strength(MPa, megapascals)</th>\n",
              "    </tr>\n",
              "  </thead>\n",
              "  <tbody>\n",
              "    <tr>\n",
              "      <th>0</th>\n",
              "      <td>540.0</td>\n",
              "      <td>0.0</td>\n",
              "      <td>0.0</td>\n",
              "      <td>162.0</td>\n",
              "      <td>2.5</td>\n",
              "      <td>1040.0</td>\n",
              "      <td>676.0</td>\n",
              "      <td>28</td>\n",
              "      <td>79.99</td>\n",
              "    </tr>\n",
              "    <tr>\n",
              "      <th>1</th>\n",
              "      <td>540.0</td>\n",
              "      <td>0.0</td>\n",
              "      <td>0.0</td>\n",
              "      <td>162.0</td>\n",
              "      <td>2.5</td>\n",
              "      <td>1055.0</td>\n",
              "      <td>676.0</td>\n",
              "      <td>28</td>\n",
              "      <td>61.89</td>\n",
              "    </tr>\n",
              "    <tr>\n",
              "      <th>2</th>\n",
              "      <td>332.5</td>\n",
              "      <td>142.5</td>\n",
              "      <td>0.0</td>\n",
              "      <td>228.0</td>\n",
              "      <td>0.0</td>\n",
              "      <td>932.0</td>\n",
              "      <td>594.0</td>\n",
              "      <td>270</td>\n",
              "      <td>40.27</td>\n",
              "    </tr>\n",
              "    <tr>\n",
              "      <th>3</th>\n",
              "      <td>332.5</td>\n",
              "      <td>142.5</td>\n",
              "      <td>0.0</td>\n",
              "      <td>228.0</td>\n",
              "      <td>0.0</td>\n",
              "      <td>932.0</td>\n",
              "      <td>594.0</td>\n",
              "      <td>365</td>\n",
              "      <td>41.05</td>\n",
              "    </tr>\n",
              "    <tr>\n",
              "      <th>4</th>\n",
              "      <td>198.6</td>\n",
              "      <td>132.4</td>\n",
              "      <td>0.0</td>\n",
              "      <td>192.0</td>\n",
              "      <td>0.0</td>\n",
              "      <td>978.4</td>\n",
              "      <td>825.5</td>\n",
              "      <td>360</td>\n",
              "      <td>44.30</td>\n",
              "    </tr>\n",
              "  </tbody>\n",
              "</table>\n",
              "</div>"
            ],
            "text/plain": [
              "   Cement (component 1)(kg in a m^3 mixture)  ...  Concrete compressive strength(MPa, megapascals) \n",
              "0                                      540.0  ...                                             79.99\n",
              "1                                      540.0  ...                                             61.89\n",
              "2                                      332.5  ...                                             40.27\n",
              "3                                      332.5  ...                                             41.05\n",
              "4                                      198.6  ...                                             44.30\n",
              "\n",
              "[5 rows x 9 columns]"
            ]
          },
          "metadata": {
            "tags": []
          },
          "execution_count": 49
        }
      ]
    },
    {
      "cell_type": "code",
      "metadata": {
        "colab": {
          "base_uri": "https://localhost:8080/"
        },
        "id": "hs7gbnbatLE3",
        "outputId": "a5720d81-c99b-42a3-912b-7953d27acbba"
      },
      "source": [
        "data.isnull().sum()"
      ],
      "execution_count": 50,
      "outputs": [
        {
          "output_type": "execute_result",
          "data": {
            "text/plain": [
              "Cement (component 1)(kg in a m^3 mixture)                0\n",
              "Blast Furnace Slag (component 2)(kg in a m^3 mixture)    0\n",
              "Fly Ash (component 3)(kg in a m^3 mixture)               0\n",
              "Water  (component 4)(kg in a m^3 mixture)                0\n",
              "Superplasticizer (component 5)(kg in a m^3 mixture)      0\n",
              "Coarse Aggregate  (component 6)(kg in a m^3 mixture)     0\n",
              "Fine Aggregate (component 7)(kg in a m^3 mixture)        0\n",
              "Age (day)                                                0\n",
              "Concrete compressive strength(MPa, megapascals)          0\n",
              "dtype: int64"
            ]
          },
          "metadata": {
            "tags": []
          },
          "execution_count": 50
        }
      ]
    },
    {
      "cell_type": "code",
      "metadata": {
        "colab": {
          "base_uri": "https://localhost:8080/"
        },
        "id": "ea-8oydrtOX_",
        "outputId": "b82549c4-1f59-4a8b-fd9e-126ccb25f252"
      },
      "source": [
        "np.where(data.applymap(lambda x: x == ''))"
      ],
      "execution_count": 51,
      "outputs": [
        {
          "output_type": "execute_result",
          "data": {
            "text/plain": [
              "(array([], dtype=int64), array([], dtype=int64))"
            ]
          },
          "metadata": {
            "tags": []
          },
          "execution_count": 51
        }
      ]
    },
    {
      "cell_type": "code",
      "metadata": {
        "id": "i3h9BfnJtRSE"
      },
      "source": [
        "X_train = data.sample(frac = 0.7, random_state = 123)\n",
        "X_test = data.drop(X_train.index)"
      ],
      "execution_count": 52,
      "outputs": []
    },
    {
      "cell_type": "code",
      "metadata": {
        "colab": {
          "base_uri": "https://localhost:8080/",
          "height": 255
        },
        "id": "IPmAbDb3tU_k",
        "outputId": "d6c116c3-0bf4-4d21-b074-5b7aecf5281a"
      },
      "source": [
        "X_train.head()"
      ],
      "execution_count": 53,
      "outputs": [
        {
          "output_type": "execute_result",
          "data": {
            "text/html": [
              "<div>\n",
              "<style scoped>\n",
              "    .dataframe tbody tr th:only-of-type {\n",
              "        vertical-align: middle;\n",
              "    }\n",
              "\n",
              "    .dataframe tbody tr th {\n",
              "        vertical-align: top;\n",
              "    }\n",
              "\n",
              "    .dataframe thead th {\n",
              "        text-align: right;\n",
              "    }\n",
              "</style>\n",
              "<table border=\"1\" class=\"dataframe\">\n",
              "  <thead>\n",
              "    <tr style=\"text-align: right;\">\n",
              "      <th></th>\n",
              "      <th>Cement (component 1)(kg in a m^3 mixture)</th>\n",
              "      <th>Blast Furnace Slag (component 2)(kg in a m^3 mixture)</th>\n",
              "      <th>Fly Ash (component 3)(kg in a m^3 mixture)</th>\n",
              "      <th>Water  (component 4)(kg in a m^3 mixture)</th>\n",
              "      <th>Superplasticizer (component 5)(kg in a m^3 mixture)</th>\n",
              "      <th>Coarse Aggregate  (component 6)(kg in a m^3 mixture)</th>\n",
              "      <th>Fine Aggregate (component 7)(kg in a m^3 mixture)</th>\n",
              "      <th>Age (day)</th>\n",
              "      <th>Concrete compressive strength(MPa, megapascals)</th>\n",
              "    </tr>\n",
              "  </thead>\n",
              "  <tbody>\n",
              "    <tr>\n",
              "      <th>134</th>\n",
              "      <td>362.6</td>\n",
              "      <td>189.0</td>\n",
              "      <td>0.0</td>\n",
              "      <td>164.9</td>\n",
              "      <td>11.6</td>\n",
              "      <td>944.7</td>\n",
              "      <td>755.8</td>\n",
              "      <td>28</td>\n",
              "      <td>71.30</td>\n",
              "    </tr>\n",
              "    <tr>\n",
              "      <th>13</th>\n",
              "      <td>190.0</td>\n",
              "      <td>190.0</td>\n",
              "      <td>0.0</td>\n",
              "      <td>228.0</td>\n",
              "      <td>0.0</td>\n",
              "      <td>932.0</td>\n",
              "      <td>670.0</td>\n",
              "      <td>90</td>\n",
              "      <td>42.33</td>\n",
              "    </tr>\n",
              "    <tr>\n",
              "      <th>996</th>\n",
              "      <td>152.6</td>\n",
              "      <td>238.7</td>\n",
              "      <td>0.0</td>\n",
              "      <td>200.0</td>\n",
              "      <td>6.3</td>\n",
              "      <td>1001.8</td>\n",
              "      <td>683.9</td>\n",
              "      <td>28</td>\n",
              "      <td>26.86</td>\n",
              "    </tr>\n",
              "    <tr>\n",
              "      <th>770</th>\n",
              "      <td>349.0</td>\n",
              "      <td>0.0</td>\n",
              "      <td>0.0</td>\n",
              "      <td>192.0</td>\n",
              "      <td>0.0</td>\n",
              "      <td>1047.0</td>\n",
              "      <td>806.0</td>\n",
              "      <td>3</td>\n",
              "      <td>14.99</td>\n",
              "    </tr>\n",
              "    <tr>\n",
              "      <th>937</th>\n",
              "      <td>313.3</td>\n",
              "      <td>0.0</td>\n",
              "      <td>113.0</td>\n",
              "      <td>178.5</td>\n",
              "      <td>8.0</td>\n",
              "      <td>1001.9</td>\n",
              "      <td>688.7</td>\n",
              "      <td>28</td>\n",
              "      <td>36.80</td>\n",
              "    </tr>\n",
              "  </tbody>\n",
              "</table>\n",
              "</div>"
            ],
            "text/plain": [
              "     Cement (component 1)(kg in a m^3 mixture)  ...  Concrete compressive strength(MPa, megapascals) \n",
              "134                                      362.6  ...                                             71.30\n",
              "13                                       190.0  ...                                             42.33\n",
              "996                                      152.6  ...                                             26.86\n",
              "770                                      349.0  ...                                             14.99\n",
              "937                                      313.3  ...                                             36.80\n",
              "\n",
              "[5 rows x 9 columns]"
            ]
          },
          "metadata": {
            "tags": []
          },
          "execution_count": 53
        }
      ]
    },
    {
      "cell_type": "markdown",
      "metadata": {
        "id": "l9n_1RmWteep"
      },
      "source": [
        "Assigninig Features and Variables"
      ]
    },
    {
      "cell_type": "code",
      "metadata": {
        "id": "Swj-63DPtY6b"
      },
      "source": [
        "Y_train = X_train.iloc[:,-1]\n",
        "X_train = X_train.iloc[:,0:-1]\n",
        "Y_test = X_test.iloc[:,-1]\n",
        "X_test = X_test.iloc[:,0:-1]"
      ],
      "execution_count": 54,
      "outputs": []
    },
    {
      "cell_type": "code",
      "metadata": {
        "id": "AtTWMAL0tj-Z"
      },
      "source": [
        "X_mean = X_train.mean()\n",
        "X_train -= X_mean\n",
        "X_std = X_train.std()\n",
        "X_train /= X_std\n",
        "X_test -= X_mean\n",
        "X_test /= X_std"
      ],
      "execution_count": 55,
      "outputs": []
    },
    {
      "cell_type": "code",
      "metadata": {
        "id": "Ntz5papztoFb"
      },
      "source": [
        "Y_mean = Y_train.mean()\n",
        "Y_train -= Y_mean\n",
        "Y_std = Y_train.std()\n",
        "Y_train /= Y_std\n",
        "Y_test -= Y_mean\n",
        "Y_test /= Y_std"
      ],
      "execution_count": 56,
      "outputs": []
    },
    {
      "cell_type": "code",
      "metadata": {
        "colab": {
          "base_uri": "https://localhost:8080/"
        },
        "id": "ZKp0U7fPtsW_",
        "outputId": "e106e78c-4f4e-4bad-8fa1-4630b5965099"
      },
      "source": [
        "X_train.dtypes"
      ],
      "execution_count": 57,
      "outputs": [
        {
          "output_type": "execute_result",
          "data": {
            "text/plain": [
              "Cement (component 1)(kg in a m^3 mixture)                float64\n",
              "Blast Furnace Slag (component 2)(kg in a m^3 mixture)    float64\n",
              "Fly Ash (component 3)(kg in a m^3 mixture)               float64\n",
              "Water  (component 4)(kg in a m^3 mixture)                float64\n",
              "Superplasticizer (component 5)(kg in a m^3 mixture)      float64\n",
              "Coarse Aggregate  (component 6)(kg in a m^3 mixture)     float64\n",
              "Fine Aggregate (component 7)(kg in a m^3 mixture)        float64\n",
              "Age (day)                                                float64\n",
              "dtype: object"
            ]
          },
          "metadata": {
            "tags": []
          },
          "execution_count": 57
        }
      ]
    },
    {
      "cell_type": "code",
      "metadata": {
        "id": "diF5slMZt31G"
      },
      "source": [
        "X_train = X_train.to_numpy()\n",
        "Y_train = Y_train.to_numpy()\n",
        "X_test = X_test.to_numpy()\n",
        "Y_test = Y_test.to_numpy()"
      ],
      "execution_count": 58,
      "outputs": []
    },
    {
      "cell_type": "markdown",
      "metadata": {
        "id": "j4-iGNtCuYQl"
      },
      "source": [
        "Training & Data Splitting"
      ]
    },
    {
      "cell_type": "code",
      "metadata": {
        "id": "CAkgh7FUt6Rt"
      },
      "source": [
        "network = models.Sequential()\n",
        "network.add(layers.Dense(128,activation=\"relu\",input_shape=(X_train.shape[1],)))\n",
        "network.add(layers.Dense(64,activation=\"relu\"))\n",
        "network.add(layers.Dense(32,activation=\"relu\"))\n",
        "network.add(layers.Dense(1))"
      ],
      "execution_count": 59,
      "outputs": []
    },
    {
      "cell_type": "markdown",
      "metadata": {
        "id": "wVhsuB3pu5ki"
      },
      "source": [
        "Model Compilation"
      ]
    },
    {
      "cell_type": "code",
      "metadata": {
        "id": "MaK5W70Tu8vn"
      },
      "source": [
        "network.compile(optimizer=\"rmsprop\",loss=[\"mse\"],metrics=[\"mae\"])"
      ],
      "execution_count": 60,
      "outputs": []
    },
    {
      "cell_type": "code",
      "metadata": {
        "colab": {
          "base_uri": "https://localhost:8080/"
        },
        "id": "qmU4GWsKvAUZ",
        "outputId": "672fe97c-12ec-4b9f-b23f-91861f3bed14"
      },
      "source": [
        "history = network.fit(X_train,Y_train,epochs=200,validation_split=0.3, batch_size = 16)"
      ],
      "execution_count": 61,
      "outputs": [
        {
          "output_type": "stream",
          "text": [
            "Epoch 1/200\n",
            "32/32 [==============================] - 1s 7ms/step - loss: 0.7294 - mae: 0.6870 - val_loss: 0.4170 - val_mae: 0.5261\n",
            "Epoch 2/200\n",
            "32/32 [==============================] - 0s 4ms/step - loss: 0.3144 - mae: 0.4371 - val_loss: 0.3254 - val_mae: 0.4404\n",
            "Epoch 3/200\n",
            "32/32 [==============================] - 0s 4ms/step - loss: 0.2437 - mae: 0.3834 - val_loss: 0.2954 - val_mae: 0.4100\n",
            "Epoch 4/200\n",
            "32/32 [==============================] - 0s 4ms/step - loss: 0.2127 - mae: 0.3620 - val_loss: 0.2614 - val_mae: 0.3913\n",
            "Epoch 5/200\n",
            "32/32 [==============================] - 0s 4ms/step - loss: 0.1755 - mae: 0.3354 - val_loss: 0.2263 - val_mae: 0.3646\n",
            "Epoch 6/200\n",
            "32/32 [==============================] - 0s 4ms/step - loss: 0.1564 - mae: 0.3100 - val_loss: 0.2350 - val_mae: 0.3774\n",
            "Epoch 7/200\n",
            "32/32 [==============================] - 0s 3ms/step - loss: 0.1254 - mae: 0.2848 - val_loss: 0.2114 - val_mae: 0.3556\n",
            "Epoch 8/200\n",
            "32/32 [==============================] - 0s 4ms/step - loss: 0.1228 - mae: 0.2717 - val_loss: 0.2294 - val_mae: 0.3576\n",
            "Epoch 9/200\n",
            "32/32 [==============================] - 0s 4ms/step - loss: 0.1132 - mae: 0.2681 - val_loss: 0.2475 - val_mae: 0.3902\n",
            "Epoch 10/200\n",
            "32/32 [==============================] - 0s 4ms/step - loss: 0.1224 - mae: 0.2629 - val_loss: 0.1987 - val_mae: 0.3498\n",
            "Epoch 11/200\n",
            "32/32 [==============================] - 0s 4ms/step - loss: 0.1067 - mae: 0.2567 - val_loss: 0.1908 - val_mae: 0.3347\n",
            "Epoch 12/200\n",
            "32/32 [==============================] - 0s 4ms/step - loss: 0.0923 - mae: 0.2331 - val_loss: 0.1879 - val_mae: 0.3325\n",
            "Epoch 13/200\n",
            "32/32 [==============================] - 0s 4ms/step - loss: 0.0858 - mae: 0.2302 - val_loss: 0.2244 - val_mae: 0.3733\n",
            "Epoch 14/200\n",
            "32/32 [==============================] - 0s 4ms/step - loss: 0.0846 - mae: 0.2297 - val_loss: 0.1918 - val_mae: 0.3186\n",
            "Epoch 15/200\n",
            "32/32 [==============================] - 0s 4ms/step - loss: 0.0771 - mae: 0.2142 - val_loss: 0.2009 - val_mae: 0.3541\n",
            "Epoch 16/200\n",
            "32/32 [==============================] - 0s 4ms/step - loss: 0.0826 - mae: 0.2227 - val_loss: 0.1991 - val_mae: 0.3302\n",
            "Epoch 17/200\n",
            "32/32 [==============================] - 0s 4ms/step - loss: 0.0697 - mae: 0.2055 - val_loss: 0.1895 - val_mae: 0.3376\n",
            "Epoch 18/200\n",
            "32/32 [==============================] - 0s 4ms/step - loss: 0.0663 - mae: 0.1972 - val_loss: 0.1860 - val_mae: 0.3274\n",
            "Epoch 19/200\n",
            "32/32 [==============================] - 0s 4ms/step - loss: 0.0647 - mae: 0.1978 - val_loss: 0.1933 - val_mae: 0.3210\n",
            "Epoch 20/200\n",
            "32/32 [==============================] - 0s 4ms/step - loss: 0.0707 - mae: 0.2002 - val_loss: 0.1952 - val_mae: 0.3287\n",
            "Epoch 21/200\n",
            "32/32 [==============================] - 0s 4ms/step - loss: 0.0659 - mae: 0.1998 - val_loss: 0.1565 - val_mae: 0.2962\n",
            "Epoch 22/200\n",
            "32/32 [==============================] - 0s 4ms/step - loss: 0.0585 - mae: 0.1858 - val_loss: 0.1532 - val_mae: 0.2959\n",
            "Epoch 23/200\n",
            "32/32 [==============================] - 0s 4ms/step - loss: 0.0650 - mae: 0.1941 - val_loss: 0.1836 - val_mae: 0.3214\n",
            "Epoch 24/200\n",
            "32/32 [==============================] - 0s 4ms/step - loss: 0.0658 - mae: 0.1940 - val_loss: 0.1520 - val_mae: 0.2915\n",
            "Epoch 25/200\n",
            "32/32 [==============================] - 0s 4ms/step - loss: 0.0626 - mae: 0.1929 - val_loss: 0.1449 - val_mae: 0.2890\n",
            "Epoch 26/200\n",
            "32/32 [==============================] - 0s 4ms/step - loss: 0.0665 - mae: 0.1894 - val_loss: 0.1598 - val_mae: 0.3006\n",
            "Epoch 27/200\n",
            "32/32 [==============================] - 0s 4ms/step - loss: 0.0582 - mae: 0.1832 - val_loss: 0.1426 - val_mae: 0.2856\n",
            "Epoch 28/200\n",
            "32/32 [==============================] - 0s 4ms/step - loss: 0.0516 - mae: 0.1718 - val_loss: 0.1652 - val_mae: 0.3155\n",
            "Epoch 29/200\n",
            "32/32 [==============================] - 0s 4ms/step - loss: 0.0569 - mae: 0.1864 - val_loss: 0.1513 - val_mae: 0.2892\n",
            "Epoch 30/200\n",
            "32/32 [==============================] - 0s 4ms/step - loss: 0.0611 - mae: 0.1881 - val_loss: 0.1401 - val_mae: 0.2811\n",
            "Epoch 31/200\n",
            "32/32 [==============================] - 0s 4ms/step - loss: 0.0500 - mae: 0.1690 - val_loss: 0.1543 - val_mae: 0.3056\n",
            "Epoch 32/200\n",
            "32/32 [==============================] - 0s 5ms/step - loss: 0.0492 - mae: 0.1678 - val_loss: 0.1460 - val_mae: 0.2929\n",
            "Epoch 33/200\n",
            "32/32 [==============================] - 0s 4ms/step - loss: 0.0522 - mae: 0.1729 - val_loss: 0.1898 - val_mae: 0.3402\n",
            "Epoch 34/200\n",
            "32/32 [==============================] - 0s 4ms/step - loss: 0.0561 - mae: 0.1836 - val_loss: 0.1287 - val_mae: 0.2795\n",
            "Epoch 35/200\n",
            "32/32 [==============================] - 0s 4ms/step - loss: 0.0416 - mae: 0.1503 - val_loss: 0.1343 - val_mae: 0.2716\n",
            "Epoch 36/200\n",
            "32/32 [==============================] - 0s 4ms/step - loss: 0.0507 - mae: 0.1608 - val_loss: 0.1777 - val_mae: 0.3262\n",
            "Epoch 37/200\n",
            "32/32 [==============================] - 0s 4ms/step - loss: 0.0554 - mae: 0.1762 - val_loss: 0.1348 - val_mae: 0.2777\n",
            "Epoch 38/200\n",
            "32/32 [==============================] - 0s 4ms/step - loss: 0.0402 - mae: 0.1486 - val_loss: 0.1391 - val_mae: 0.2841\n",
            "Epoch 39/200\n",
            "32/32 [==============================] - 0s 4ms/step - loss: 0.0448 - mae: 0.1588 - val_loss: 0.1448 - val_mae: 0.2970\n",
            "Epoch 40/200\n",
            "32/32 [==============================] - 0s 5ms/step - loss: 0.0438 - mae: 0.1647 - val_loss: 0.1403 - val_mae: 0.2812\n",
            "Epoch 41/200\n",
            "32/32 [==============================] - 0s 4ms/step - loss: 0.0550 - mae: 0.1714 - val_loss: 0.1372 - val_mae: 0.2836\n",
            "Epoch 42/200\n",
            "32/32 [==============================] - 0s 4ms/step - loss: 0.0464 - mae: 0.1523 - val_loss: 0.2044 - val_mae: 0.3490\n",
            "Epoch 43/200\n",
            "32/32 [==============================] - 0s 4ms/step - loss: 0.0446 - mae: 0.1645 - val_loss: 0.1485 - val_mae: 0.2867\n",
            "Epoch 44/200\n",
            "32/32 [==============================] - 0s 4ms/step - loss: 0.0430 - mae: 0.1536 - val_loss: 0.1267 - val_mae: 0.2633\n",
            "Epoch 45/200\n",
            "32/32 [==============================] - 0s 4ms/step - loss: 0.0378 - mae: 0.1432 - val_loss: 0.1360 - val_mae: 0.2747\n",
            "Epoch 46/200\n",
            "32/32 [==============================] - 0s 4ms/step - loss: 0.0425 - mae: 0.1557 - val_loss: 0.1307 - val_mae: 0.2712\n",
            "Epoch 47/200\n",
            "32/32 [==============================] - 0s 4ms/step - loss: 0.0430 - mae: 0.1482 - val_loss: 0.1387 - val_mae: 0.2975\n",
            "Epoch 48/200\n",
            "32/32 [==============================] - 0s 4ms/step - loss: 0.0355 - mae: 0.1407 - val_loss: 0.1649 - val_mae: 0.3146\n",
            "Epoch 49/200\n",
            "32/32 [==============================] - 0s 4ms/step - loss: 0.0385 - mae: 0.1453 - val_loss: 0.1265 - val_mae: 0.2773\n",
            "Epoch 50/200\n",
            "32/32 [==============================] - 0s 4ms/step - loss: 0.0366 - mae: 0.1411 - val_loss: 0.1300 - val_mae: 0.2670\n",
            "Epoch 51/200\n",
            "32/32 [==============================] - 0s 4ms/step - loss: 0.0322 - mae: 0.1285 - val_loss: 0.1678 - val_mae: 0.2938\n",
            "Epoch 52/200\n",
            "32/32 [==============================] - 0s 4ms/step - loss: 0.0391 - mae: 0.1435 - val_loss: 0.1661 - val_mae: 0.3089\n",
            "Epoch 53/200\n",
            "32/32 [==============================] - 0s 4ms/step - loss: 0.0434 - mae: 0.1550 - val_loss: 0.1302 - val_mae: 0.2796\n",
            "Epoch 54/200\n",
            "32/32 [==============================] - 0s 5ms/step - loss: 0.0332 - mae: 0.1347 - val_loss: 0.1333 - val_mae: 0.2693\n",
            "Epoch 55/200\n",
            "32/32 [==============================] - 0s 4ms/step - loss: 0.0353 - mae: 0.1398 - val_loss: 0.1274 - val_mae: 0.2746\n",
            "Epoch 56/200\n",
            "32/32 [==============================] - 0s 4ms/step - loss: 0.0353 - mae: 0.1433 - val_loss: 0.1483 - val_mae: 0.2882\n",
            "Epoch 57/200\n",
            "32/32 [==============================] - 0s 4ms/step - loss: 0.0376 - mae: 0.1459 - val_loss: 0.1362 - val_mae: 0.2769\n",
            "Epoch 58/200\n",
            "32/32 [==============================] - 0s 4ms/step - loss: 0.0369 - mae: 0.1420 - val_loss: 0.1275 - val_mae: 0.2583\n",
            "Epoch 59/200\n",
            "32/32 [==============================] - 0s 4ms/step - loss: 0.0298 - mae: 0.1239 - val_loss: 0.1293 - val_mae: 0.2659\n",
            "Epoch 60/200\n",
            "32/32 [==============================] - 0s 4ms/step - loss: 0.0342 - mae: 0.1326 - val_loss: 0.1152 - val_mae: 0.2580\n",
            "Epoch 61/200\n",
            "32/32 [==============================] - 0s 5ms/step - loss: 0.0328 - mae: 0.1292 - val_loss: 0.1309 - val_mae: 0.2664\n",
            "Epoch 62/200\n",
            "32/32 [==============================] - 0s 4ms/step - loss: 0.0336 - mae: 0.1336 - val_loss: 0.1321 - val_mae: 0.2691\n",
            "Epoch 63/200\n",
            "32/32 [==============================] - 0s 4ms/step - loss: 0.0382 - mae: 0.1463 - val_loss: 0.1456 - val_mae: 0.2796\n",
            "Epoch 64/200\n",
            "32/32 [==============================] - 0s 4ms/step - loss: 0.0402 - mae: 0.1445 - val_loss: 0.1229 - val_mae: 0.2605\n",
            "Epoch 65/200\n",
            "32/32 [==============================] - 0s 4ms/step - loss: 0.0373 - mae: 0.1337 - val_loss: 0.1284 - val_mae: 0.2700\n",
            "Epoch 66/200\n",
            "32/32 [==============================] - 0s 4ms/step - loss: 0.0280 - mae: 0.1232 - val_loss: 0.1387 - val_mae: 0.2846\n",
            "Epoch 67/200\n",
            "32/32 [==============================] - 0s 4ms/step - loss: 0.0355 - mae: 0.1406 - val_loss: 0.1326 - val_mae: 0.2602\n",
            "Epoch 68/200\n",
            "32/32 [==============================] - 0s 4ms/step - loss: 0.0254 - mae: 0.1163 - val_loss: 0.1310 - val_mae: 0.2669\n",
            "Epoch 69/200\n",
            "32/32 [==============================] - 0s 4ms/step - loss: 0.0354 - mae: 0.1320 - val_loss: 0.1221 - val_mae: 0.2768\n",
            "Epoch 70/200\n",
            "32/32 [==============================] - 0s 4ms/step - loss: 0.0351 - mae: 0.1405 - val_loss: 0.1216 - val_mae: 0.2537\n",
            "Epoch 71/200\n",
            "32/32 [==============================] - 0s 4ms/step - loss: 0.0307 - mae: 0.1233 - val_loss: 0.1325 - val_mae: 0.2631\n",
            "Epoch 72/200\n",
            "32/32 [==============================] - 0s 4ms/step - loss: 0.0340 - mae: 0.1366 - val_loss: 0.1334 - val_mae: 0.2705\n",
            "Epoch 73/200\n",
            "32/32 [==============================] - 0s 4ms/step - loss: 0.0298 - mae: 0.1249 - val_loss: 0.1216 - val_mae: 0.2588\n",
            "Epoch 74/200\n",
            "32/32 [==============================] - 0s 4ms/step - loss: 0.0306 - mae: 0.1300 - val_loss: 0.1087 - val_mae: 0.2474\n",
            "Epoch 75/200\n",
            "32/32 [==============================] - 0s 4ms/step - loss: 0.0299 - mae: 0.1189 - val_loss: 0.1257 - val_mae: 0.2586\n",
            "Epoch 76/200\n",
            "32/32 [==============================] - 0s 4ms/step - loss: 0.0290 - mae: 0.1211 - val_loss: 0.1315 - val_mae: 0.2710\n",
            "Epoch 77/200\n",
            "32/32 [==============================] - 0s 4ms/step - loss: 0.0366 - mae: 0.1409 - val_loss: 0.1284 - val_mae: 0.2730\n",
            "Epoch 78/200\n",
            "32/32 [==============================] - 0s 4ms/step - loss: 0.0360 - mae: 0.1346 - val_loss: 0.1301 - val_mae: 0.2628\n",
            "Epoch 79/200\n",
            "32/32 [==============================] - 0s 4ms/step - loss: 0.0305 - mae: 0.1252 - val_loss: 0.1203 - val_mae: 0.2608\n",
            "Epoch 80/200\n",
            "32/32 [==============================] - 0s 4ms/step - loss: 0.0272 - mae: 0.1254 - val_loss: 0.1182 - val_mae: 0.2487\n",
            "Epoch 81/200\n",
            "32/32 [==============================] - 0s 4ms/step - loss: 0.0343 - mae: 0.1280 - val_loss: 0.1415 - val_mae: 0.2687\n",
            "Epoch 82/200\n",
            "32/32 [==============================] - 0s 4ms/step - loss: 0.0366 - mae: 0.1349 - val_loss: 0.1147 - val_mae: 0.2433\n",
            "Epoch 83/200\n",
            "32/32 [==============================] - 0s 4ms/step - loss: 0.0257 - mae: 0.1168 - val_loss: 0.1244 - val_mae: 0.2567\n",
            "Epoch 84/200\n",
            "32/32 [==============================] - 0s 4ms/step - loss: 0.0360 - mae: 0.1358 - val_loss: 0.1221 - val_mae: 0.2540\n",
            "Epoch 85/200\n",
            "32/32 [==============================] - 0s 4ms/step - loss: 0.0281 - mae: 0.1188 - val_loss: 0.1207 - val_mae: 0.2458\n",
            "Epoch 86/200\n",
            "32/32 [==============================] - 0s 4ms/step - loss: 0.0285 - mae: 0.1168 - val_loss: 0.1220 - val_mae: 0.2556\n",
            "Epoch 87/200\n",
            "32/32 [==============================] - 0s 4ms/step - loss: 0.0242 - mae: 0.1165 - val_loss: 0.1183 - val_mae: 0.2690\n",
            "Epoch 88/200\n",
            "32/32 [==============================] - 0s 4ms/step - loss: 0.0264 - mae: 0.1145 - val_loss: 0.1167 - val_mae: 0.2512\n",
            "Epoch 89/200\n",
            "32/32 [==============================] - 0s 4ms/step - loss: 0.0265 - mae: 0.1155 - val_loss: 0.1168 - val_mae: 0.2523\n",
            "Epoch 90/200\n",
            "32/32 [==============================] - 0s 4ms/step - loss: 0.0383 - mae: 0.1355 - val_loss: 0.1356 - val_mae: 0.2884\n",
            "Epoch 91/200\n",
            "32/32 [==============================] - 0s 4ms/step - loss: 0.0319 - mae: 0.1269 - val_loss: 0.1264 - val_mae: 0.2618\n",
            "Epoch 92/200\n",
            "32/32 [==============================] - 0s 4ms/step - loss: 0.0263 - mae: 0.1165 - val_loss: 0.1200 - val_mae: 0.2518\n",
            "Epoch 93/200\n",
            "32/32 [==============================] - 0s 4ms/step - loss: 0.0285 - mae: 0.1199 - val_loss: 0.1150 - val_mae: 0.2525\n",
            "Epoch 94/200\n",
            "32/32 [==============================] - 0s 4ms/step - loss: 0.0208 - mae: 0.1018 - val_loss: 0.1337 - val_mae: 0.2644\n",
            "Epoch 95/200\n",
            "32/32 [==============================] - 0s 4ms/step - loss: 0.0270 - mae: 0.1187 - val_loss: 0.1294 - val_mae: 0.2599\n",
            "Epoch 96/200\n",
            "32/32 [==============================] - 0s 4ms/step - loss: 0.0230 - mae: 0.1106 - val_loss: 0.1337 - val_mae: 0.2756\n",
            "Epoch 97/200\n",
            "32/32 [==============================] - 0s 4ms/step - loss: 0.0372 - mae: 0.1281 - val_loss: 0.1092 - val_mae: 0.2396\n",
            "Epoch 98/200\n",
            "32/32 [==============================] - 0s 4ms/step - loss: 0.0214 - mae: 0.1025 - val_loss: 0.1246 - val_mae: 0.2526\n",
            "Epoch 99/200\n",
            "32/32 [==============================] - 0s 4ms/step - loss: 0.0322 - mae: 0.1222 - val_loss: 0.1133 - val_mae: 0.2496\n",
            "Epoch 100/200\n",
            "32/32 [==============================] - 0s 4ms/step - loss: 0.0242 - mae: 0.1097 - val_loss: 0.1480 - val_mae: 0.2770\n",
            "Epoch 101/200\n",
            "32/32 [==============================] - 0s 4ms/step - loss: 0.0272 - mae: 0.1135 - val_loss: 0.1129 - val_mae: 0.2366\n",
            "Epoch 102/200\n",
            "32/32 [==============================] - 0s 4ms/step - loss: 0.0265 - mae: 0.1158 - val_loss: 0.1195 - val_mae: 0.2529\n",
            "Epoch 103/200\n",
            "32/32 [==============================] - 0s 4ms/step - loss: 0.0249 - mae: 0.1106 - val_loss: 0.1256 - val_mae: 0.2541\n",
            "Epoch 104/200\n",
            "32/32 [==============================] - 0s 4ms/step - loss: 0.0232 - mae: 0.1062 - val_loss: 0.1221 - val_mae: 0.2609\n",
            "Epoch 105/200\n",
            "32/32 [==============================] - 0s 4ms/step - loss: 0.0265 - mae: 0.1185 - val_loss: 0.1168 - val_mae: 0.2555\n",
            "Epoch 106/200\n",
            "32/32 [==============================] - 0s 4ms/step - loss: 0.0261 - mae: 0.1106 - val_loss: 0.1151 - val_mae: 0.2523\n",
            "Epoch 107/200\n",
            "32/32 [==============================] - 0s 4ms/step - loss: 0.0281 - mae: 0.1166 - val_loss: 0.1088 - val_mae: 0.2355\n",
            "Epoch 108/200\n",
            "32/32 [==============================] - 0s 4ms/step - loss: 0.0271 - mae: 0.1145 - val_loss: 0.1182 - val_mae: 0.2512\n",
            "Epoch 109/200\n",
            "32/32 [==============================] - 0s 4ms/step - loss: 0.0250 - mae: 0.1136 - val_loss: 0.1100 - val_mae: 0.2449\n",
            "Epoch 110/200\n",
            "32/32 [==============================] - 0s 4ms/step - loss: 0.0239 - mae: 0.1086 - val_loss: 0.1206 - val_mae: 0.2635\n",
            "Epoch 111/200\n",
            "32/32 [==============================] - 0s 4ms/step - loss: 0.0280 - mae: 0.1140 - val_loss: 0.1204 - val_mae: 0.2517\n",
            "Epoch 112/200\n",
            "32/32 [==============================] - 0s 4ms/step - loss: 0.0264 - mae: 0.1130 - val_loss: 0.1272 - val_mae: 0.2637\n",
            "Epoch 113/200\n",
            "32/32 [==============================] - 0s 4ms/step - loss: 0.0231 - mae: 0.1040 - val_loss: 0.1330 - val_mae: 0.2895\n",
            "Epoch 114/200\n",
            "32/32 [==============================] - 0s 4ms/step - loss: 0.0220 - mae: 0.1041 - val_loss: 0.1212 - val_mae: 0.2463\n",
            "Epoch 115/200\n",
            "32/32 [==============================] - 0s 4ms/step - loss: 0.0241 - mae: 0.1075 - val_loss: 0.1360 - val_mae: 0.2741\n",
            "Epoch 116/200\n",
            "32/32 [==============================] - 0s 4ms/step - loss: 0.0271 - mae: 0.1228 - val_loss: 0.1078 - val_mae: 0.2382\n",
            "Epoch 117/200\n",
            "32/32 [==============================] - 0s 4ms/step - loss: 0.0269 - mae: 0.1069 - val_loss: 0.1074 - val_mae: 0.2329\n",
            "Epoch 118/200\n",
            "32/32 [==============================] - 0s 4ms/step - loss: 0.0154 - mae: 0.0903 - val_loss: 0.1200 - val_mae: 0.2453\n",
            "Epoch 119/200\n",
            "32/32 [==============================] - 0s 4ms/step - loss: 0.0205 - mae: 0.1004 - val_loss: 0.1241 - val_mae: 0.2515\n",
            "Epoch 120/200\n",
            "32/32 [==============================] - 0s 4ms/step - loss: 0.0246 - mae: 0.1052 - val_loss: 0.1229 - val_mae: 0.2454\n",
            "Epoch 121/200\n",
            "32/32 [==============================] - 0s 4ms/step - loss: 0.0226 - mae: 0.1004 - val_loss: 0.1170 - val_mae: 0.2496\n",
            "Epoch 122/200\n",
            "32/32 [==============================] - 0s 4ms/step - loss: 0.0186 - mae: 0.0985 - val_loss: 0.1223 - val_mae: 0.2623\n",
            "Epoch 123/200\n",
            "32/32 [==============================] - 0s 4ms/step - loss: 0.0191 - mae: 0.0961 - val_loss: 0.1165 - val_mae: 0.2462\n",
            "Epoch 124/200\n",
            "32/32 [==============================] - 0s 4ms/step - loss: 0.0245 - mae: 0.1042 - val_loss: 0.1109 - val_mae: 0.2438\n",
            "Epoch 125/200\n",
            "32/32 [==============================] - 0s 5ms/step - loss: 0.0238 - mae: 0.1085 - val_loss: 0.1164 - val_mae: 0.2442\n",
            "Epoch 126/200\n",
            "32/32 [==============================] - 0s 4ms/step - loss: 0.0215 - mae: 0.1008 - val_loss: 0.1196 - val_mae: 0.2520\n",
            "Epoch 127/200\n",
            "32/32 [==============================] - 0s 4ms/step - loss: 0.0218 - mae: 0.1036 - val_loss: 0.1213 - val_mae: 0.2530\n",
            "Epoch 128/200\n",
            "32/32 [==============================] - 0s 4ms/step - loss: 0.0228 - mae: 0.1007 - val_loss: 0.1126 - val_mae: 0.2430\n",
            "Epoch 129/200\n",
            "32/32 [==============================] - 0s 5ms/step - loss: 0.0223 - mae: 0.1056 - val_loss: 0.1207 - val_mae: 0.2519\n",
            "Epoch 130/200\n",
            "32/32 [==============================] - 0s 5ms/step - loss: 0.0190 - mae: 0.0964 - val_loss: 0.1158 - val_mae: 0.2491\n",
            "Epoch 131/200\n",
            "32/32 [==============================] - 0s 4ms/step - loss: 0.0237 - mae: 0.1046 - val_loss: 0.1394 - val_mae: 0.2748\n",
            "Epoch 132/200\n",
            "32/32 [==============================] - 0s 5ms/step - loss: 0.0274 - mae: 0.1125 - val_loss: 0.1143 - val_mae: 0.2517\n",
            "Epoch 133/200\n",
            "32/32 [==============================] - 0s 4ms/step - loss: 0.0199 - mae: 0.0989 - val_loss: 0.1109 - val_mae: 0.2440\n",
            "Epoch 134/200\n",
            "32/32 [==============================] - 0s 4ms/step - loss: 0.0300 - mae: 0.1126 - val_loss: 0.1079 - val_mae: 0.2335\n",
            "Epoch 135/200\n",
            "32/32 [==============================] - 0s 4ms/step - loss: 0.0216 - mae: 0.1037 - val_loss: 0.1145 - val_mae: 0.2488\n",
            "Epoch 136/200\n",
            "32/32 [==============================] - 0s 5ms/step - loss: 0.0241 - mae: 0.1072 - val_loss: 0.1059 - val_mae: 0.2369\n",
            "Epoch 137/200\n",
            "32/32 [==============================] - 0s 5ms/step - loss: 0.0262 - mae: 0.1064 - val_loss: 0.1131 - val_mae: 0.2392\n",
            "Epoch 138/200\n",
            "32/32 [==============================] - 0s 4ms/step - loss: 0.0193 - mae: 0.0913 - val_loss: 0.1176 - val_mae: 0.2514\n",
            "Epoch 139/200\n",
            "32/32 [==============================] - 0s 4ms/step - loss: 0.0218 - mae: 0.1021 - val_loss: 0.1152 - val_mae: 0.2418\n",
            "Epoch 140/200\n",
            "32/32 [==============================] - 0s 4ms/step - loss: 0.0167 - mae: 0.0921 - val_loss: 0.1234 - val_mae: 0.2508\n",
            "Epoch 141/200\n",
            "32/32 [==============================] - 0s 4ms/step - loss: 0.0196 - mae: 0.1004 - val_loss: 0.1079 - val_mae: 0.2345\n",
            "Epoch 142/200\n",
            "32/32 [==============================] - 0s 4ms/step - loss: 0.0243 - mae: 0.1021 - val_loss: 0.1075 - val_mae: 0.2384\n",
            "Epoch 143/200\n",
            "32/32 [==============================] - 0s 4ms/step - loss: 0.0206 - mae: 0.1009 - val_loss: 0.1162 - val_mae: 0.2547\n",
            "Epoch 144/200\n",
            "32/32 [==============================] - 0s 4ms/step - loss: 0.0259 - mae: 0.1089 - val_loss: 0.1131 - val_mae: 0.2379\n",
            "Epoch 145/200\n",
            "32/32 [==============================] - 0s 4ms/step - loss: 0.0249 - mae: 0.1052 - val_loss: 0.1161 - val_mae: 0.2607\n",
            "Epoch 146/200\n",
            "32/32 [==============================] - 0s 4ms/step - loss: 0.0214 - mae: 0.1003 - val_loss: 0.1248 - val_mae: 0.2663\n",
            "Epoch 147/200\n",
            "32/32 [==============================] - 0s 4ms/step - loss: 0.0168 - mae: 0.0928 - val_loss: 0.1115 - val_mae: 0.2345\n",
            "Epoch 148/200\n",
            "32/32 [==============================] - 0s 4ms/step - loss: 0.0212 - mae: 0.1005 - val_loss: 0.1127 - val_mae: 0.2453\n",
            "Epoch 149/200\n",
            "32/32 [==============================] - 0s 4ms/step - loss: 0.0239 - mae: 0.1059 - val_loss: 0.1232 - val_mae: 0.2553\n",
            "Epoch 150/200\n",
            "32/32 [==============================] - 0s 4ms/step - loss: 0.0187 - mae: 0.0984 - val_loss: 0.1147 - val_mae: 0.2427\n",
            "Epoch 151/200\n",
            "32/32 [==============================] - 0s 4ms/step - loss: 0.0176 - mae: 0.0940 - val_loss: 0.1122 - val_mae: 0.2326\n",
            "Epoch 152/200\n",
            "32/32 [==============================] - 0s 4ms/step - loss: 0.0219 - mae: 0.1018 - val_loss: 0.1201 - val_mae: 0.2393\n",
            "Epoch 153/200\n",
            "32/32 [==============================] - 0s 4ms/step - loss: 0.0247 - mae: 0.1102 - val_loss: 0.1239 - val_mae: 0.2520\n",
            "Epoch 154/200\n",
            "32/32 [==============================] - 0s 4ms/step - loss: 0.0273 - mae: 0.1100 - val_loss: 0.1079 - val_mae: 0.2320\n",
            "Epoch 155/200\n",
            "32/32 [==============================] - 0s 4ms/step - loss: 0.0228 - mae: 0.1018 - val_loss: 0.1130 - val_mae: 0.2407\n",
            "Epoch 156/200\n",
            "32/32 [==============================] - 0s 4ms/step - loss: 0.0292 - mae: 0.1035 - val_loss: 0.1069 - val_mae: 0.2304\n",
            "Epoch 157/200\n",
            "32/32 [==============================] - 0s 4ms/step - loss: 0.0205 - mae: 0.0942 - val_loss: 0.1100 - val_mae: 0.2351\n",
            "Epoch 158/200\n",
            "32/32 [==============================] - 0s 4ms/step - loss: 0.0165 - mae: 0.0893 - val_loss: 0.1110 - val_mae: 0.2455\n",
            "Epoch 159/200\n",
            "32/32 [==============================] - 0s 4ms/step - loss: 0.0195 - mae: 0.0952 - val_loss: 0.1215 - val_mae: 0.2543\n",
            "Epoch 160/200\n",
            "32/32 [==============================] - 0s 4ms/step - loss: 0.0172 - mae: 0.0887 - val_loss: 0.1274 - val_mae: 0.2573\n",
            "Epoch 161/200\n",
            "32/32 [==============================] - 0s 4ms/step - loss: 0.0223 - mae: 0.0964 - val_loss: 0.1078 - val_mae: 0.2339\n",
            "Epoch 162/200\n",
            "32/32 [==============================] - 0s 4ms/step - loss: 0.0216 - mae: 0.0968 - val_loss: 0.1220 - val_mae: 0.2588\n",
            "Epoch 163/200\n",
            "32/32 [==============================] - 0s 4ms/step - loss: 0.0251 - mae: 0.1037 - val_loss: 0.1148 - val_mae: 0.2393\n",
            "Epoch 164/200\n",
            "32/32 [==============================] - 0s 4ms/step - loss: 0.0217 - mae: 0.0995 - val_loss: 0.1039 - val_mae: 0.2250\n",
            "Epoch 165/200\n",
            "32/32 [==============================] - 0s 4ms/step - loss: 0.0166 - mae: 0.0917 - val_loss: 0.1187 - val_mae: 0.2506\n",
            "Epoch 166/200\n",
            "32/32 [==============================] - 0s 4ms/step - loss: 0.0235 - mae: 0.1023 - val_loss: 0.1042 - val_mae: 0.2370\n",
            "Epoch 167/200\n",
            "32/32 [==============================] - 0s 4ms/step - loss: 0.0252 - mae: 0.1033 - val_loss: 0.1109 - val_mae: 0.2427\n",
            "Epoch 168/200\n",
            "32/32 [==============================] - 0s 4ms/step - loss: 0.0205 - mae: 0.0885 - val_loss: 0.1048 - val_mae: 0.2304\n",
            "Epoch 169/200\n",
            "32/32 [==============================] - 0s 4ms/step - loss: 0.0136 - mae: 0.0803 - val_loss: 0.1133 - val_mae: 0.2400\n",
            "Epoch 170/200\n",
            "32/32 [==============================] - 0s 4ms/step - loss: 0.0167 - mae: 0.0859 - val_loss: 0.1229 - val_mae: 0.2452\n",
            "Epoch 171/200\n",
            "32/32 [==============================] - 0s 4ms/step - loss: 0.0205 - mae: 0.0980 - val_loss: 0.1044 - val_mae: 0.2339\n",
            "Epoch 172/200\n",
            "32/32 [==============================] - 0s 4ms/step - loss: 0.0266 - mae: 0.1066 - val_loss: 0.1148 - val_mae: 0.2406\n",
            "Epoch 173/200\n",
            "32/32 [==============================] - 0s 4ms/step - loss: 0.0219 - mae: 0.0924 - val_loss: 0.1080 - val_mae: 0.2397\n",
            "Epoch 174/200\n",
            "32/32 [==============================] - 0s 4ms/step - loss: 0.0184 - mae: 0.0892 - val_loss: 0.1188 - val_mae: 0.2436\n",
            "Epoch 175/200\n",
            "32/32 [==============================] - 0s 4ms/step - loss: 0.0160 - mae: 0.0809 - val_loss: 0.1153 - val_mae: 0.2454\n",
            "Epoch 176/200\n",
            "32/32 [==============================] - 0s 4ms/step - loss: 0.0196 - mae: 0.0931 - val_loss: 0.1147 - val_mae: 0.2365\n",
            "Epoch 177/200\n",
            "32/32 [==============================] - 0s 4ms/step - loss: 0.0138 - mae: 0.0771 - val_loss: 0.1205 - val_mae: 0.2457\n",
            "Epoch 178/200\n",
            "32/32 [==============================] - 0s 4ms/step - loss: 0.0214 - mae: 0.0978 - val_loss: 0.1161 - val_mae: 0.2529\n",
            "Epoch 179/200\n",
            "32/32 [==============================] - 0s 4ms/step - loss: 0.0162 - mae: 0.0876 - val_loss: 0.1205 - val_mae: 0.2498\n",
            "Epoch 180/200\n",
            "32/32 [==============================] - 0s 4ms/step - loss: 0.0233 - mae: 0.0986 - val_loss: 0.1093 - val_mae: 0.2349\n",
            "Epoch 181/200\n",
            "32/32 [==============================] - 0s 4ms/step - loss: 0.0151 - mae: 0.0855 - val_loss: 0.1230 - val_mae: 0.2457\n",
            "Epoch 182/200\n",
            "32/32 [==============================] - 0s 4ms/step - loss: 0.0157 - mae: 0.0868 - val_loss: 0.1138 - val_mae: 0.2384\n",
            "Epoch 183/200\n",
            "32/32 [==============================] - 0s 4ms/step - loss: 0.0154 - mae: 0.0895 - val_loss: 0.1216 - val_mae: 0.2497\n",
            "Epoch 184/200\n",
            "32/32 [==============================] - 0s 4ms/step - loss: 0.0154 - mae: 0.0841 - val_loss: 0.1129 - val_mae: 0.2485\n",
            "Epoch 185/200\n",
            "32/32 [==============================] - 0s 4ms/step - loss: 0.0195 - mae: 0.0948 - val_loss: 0.1290 - val_mae: 0.2592\n",
            "Epoch 186/200\n",
            "32/32 [==============================] - 0s 4ms/step - loss: 0.0165 - mae: 0.0859 - val_loss: 0.1116 - val_mae: 0.2407\n",
            "Epoch 187/200\n",
            "32/32 [==============================] - 0s 4ms/step - loss: 0.0189 - mae: 0.0917 - val_loss: 0.1123 - val_mae: 0.2441\n",
            "Epoch 188/200\n",
            "32/32 [==============================] - 0s 4ms/step - loss: 0.0151 - mae: 0.0807 - val_loss: 0.1152 - val_mae: 0.2379\n",
            "Epoch 189/200\n",
            "32/32 [==============================] - 0s 4ms/step - loss: 0.0201 - mae: 0.0923 - val_loss: 0.1092 - val_mae: 0.2368\n",
            "Epoch 190/200\n",
            "32/32 [==============================] - 0s 4ms/step - loss: 0.0161 - mae: 0.0876 - val_loss: 0.1220 - val_mae: 0.2545\n",
            "Epoch 191/200\n",
            "32/32 [==============================] - 0s 4ms/step - loss: 0.0152 - mae: 0.0854 - val_loss: 0.1212 - val_mae: 0.2503\n",
            "Epoch 192/200\n",
            "32/32 [==============================] - 0s 5ms/step - loss: 0.0199 - mae: 0.0924 - val_loss: 0.1073 - val_mae: 0.2317\n",
            "Epoch 193/200\n",
            "32/32 [==============================] - 0s 4ms/step - loss: 0.0156 - mae: 0.0825 - val_loss: 0.1193 - val_mae: 0.2497\n",
            "Epoch 194/200\n",
            "32/32 [==============================] - 0s 4ms/step - loss: 0.0153 - mae: 0.0872 - val_loss: 0.1182 - val_mae: 0.2510\n",
            "Epoch 195/200\n",
            "32/32 [==============================] - 0s 5ms/step - loss: 0.0185 - mae: 0.0880 - val_loss: 0.1106 - val_mae: 0.2425\n",
            "Epoch 196/200\n",
            "32/32 [==============================] - 0s 5ms/step - loss: 0.0170 - mae: 0.0871 - val_loss: 0.1144 - val_mae: 0.2454\n",
            "Epoch 197/200\n",
            "32/32 [==============================] - 0s 5ms/step - loss: 0.0167 - mae: 0.0876 - val_loss: 0.1358 - val_mae: 0.2603\n",
            "Epoch 198/200\n",
            "32/32 [==============================] - 0s 4ms/step - loss: 0.0241 - mae: 0.1017 - val_loss: 0.1134 - val_mae: 0.2344\n",
            "Epoch 199/200\n",
            "32/32 [==============================] - 0s 5ms/step - loss: 0.0183 - mae: 0.0840 - val_loss: 0.1123 - val_mae: 0.2500\n",
            "Epoch 200/200\n",
            "32/32 [==============================] - 0s 4ms/step - loss: 0.0182 - mae: 0.0923 - val_loss: 0.1093 - val_mae: 0.2345\n"
          ],
          "name": "stdout"
        }
      ]
    },
    {
      "cell_type": "code",
      "metadata": {
        "colab": {
          "base_uri": "https://localhost:8080/"
        },
        "id": "2vPg6CnpwQPq",
        "outputId": "9320ba38-0b61-49d9-9c0d-b7d2fdc8eac9"
      },
      "source": [
        "history.history.keys()"
      ],
      "execution_count": 62,
      "outputs": [
        {
          "output_type": "execute_result",
          "data": {
            "text/plain": [
              "dict_keys(['loss', 'mae', 'val_loss', 'val_mae'])"
            ]
          },
          "metadata": {
            "tags": []
          },
          "execution_count": 62
        }
      ]
    },
    {
      "cell_type": "code",
      "metadata": {
        "colab": {
          "base_uri": "https://localhost:8080/"
        },
        "id": "YWD6P7P1wVcE",
        "outputId": "1276ec35-1e5e-4b2b-c7d0-b6f617f6aa80"
      },
      "source": [
        "loss,mae=network.evaluate(X_test,Y_test)"
      ],
      "execution_count": 63,
      "outputs": [
        {
          "output_type": "stream",
          "text": [
            "10/10 [==============================] - 0s 2ms/step - loss: 0.1058 - mae: 0.2186\n"
          ],
          "name": "stdout"
        }
      ]
    },
    {
      "cell_type": "code",
      "metadata": {
        "id": "AgMdd4wawa9K"
      },
      "source": [
        "val_mae = history.history['val_mae']\n",
        "val_loss = history.history['val_loss']"
      ],
      "execution_count": 64,
      "outputs": []
    },
    {
      "cell_type": "code",
      "metadata": {
        "colab": {
          "base_uri": "https://localhost:8080/",
          "height": 295
        },
        "id": "M9C1_NW0wyp9",
        "outputId": "cb0c0ff2-e138-464a-b216-e460857e8f6a"
      },
      "source": [
        "import matplotlib.pyplot as plt \n",
        "history_dict = history.history\n",
        "loss_values = history_dict['loss']\n",
        "val_loss_values = history_dict['val_loss']\n",
        "epochs = range(200)\n",
        "plt.plot(epochs, loss_values, 'bo', label='Training loss')\n",
        "plt.plot(epochs, val_loss_values, 'b', label='Validation loss')\n",
        "plt.title('Training and validation loss')\n",
        "plt.xlabel('Epochs')\n",
        "plt.ylabel('Loss')\n",
        "plt.legend()\n",
        "plt.show()"
      ],
      "execution_count": 65,
      "outputs": [
        {
          "output_type": "display_data",
          "data": {
            "image/png": "[encoded data removed]",
            "text/plain": [
              "<Figure size 432x288 with 1 Axes>"
            ]
          },
          "metadata": {
            "tags": [],
            "needs_background": "light"
          }
        }
      ]
    },
    {
      "cell_type": "code",
      "metadata": {
        "colab": {
          "base_uri": "https://localhost:8080/",
          "height": 295
        },
        "id": "3Xssx-6iw2AK",
        "outputId": "a786159e-b0b1-43d1-c20d-832c4270f4d3"
      },
      "source": [
        "import matplotlib.pyplot as plt \n",
        "acc_values = history_dict['mae']\n",
        "val_acc_values = history_dict['val_mae']\n",
        "plt.plot(epochs, acc_values, 'bo', label='Training mae')\n",
        "plt.plot(epochs, val_acc_values, 'b', label='Validation mae')\n",
        "plt.title('Training and validation accuracy')\n",
        "plt.xlabel('Epochs')\n",
        "plt.ylabel('mae')\n",
        "plt.legend()\n",
        "plt.show()"
      ],
      "execution_count": 66,
      "outputs": [
        {
          "output_type": "display_data",
          "data": {
            "image/png": "[encoded data removed]",
            "text/plain": [
              "<Figure size 432x288 with 1 Axes>"
            ]
          },
          "metadata": {
            "tags": [],
            "needs_background": "light"
          }
        }
      ]
    },
    {
      "cell_type": "code",
      "metadata": {
        "id": "HTjDwQfow5o5"
      },
      "source": [
        "y_pred = network.predict(X_test)"
      ],
      "execution_count": 67,
      "outputs": []
    },
    {
      "cell_type": "code",
      "metadata": {
        "id": "ZoWKo4n4w80t"
      },
      "source": [
        "def denorm(x):\n",
        "    return (x * Y_std) + Y_mean"
      ],
      "execution_count": 68,
      "outputs": []
    },
    {
      "cell_type": "code",
      "metadata": {
        "id": "XUPC2ZsJw_1h"
      },
      "source": [
        "y_pred = denorm(y_pred)"
      ],
      "execution_count": 69,
      "outputs": []
    },
    {
      "cell_type": "code",
      "metadata": {
        "id": "qzBizBoJxSCN"
      },
      "source": [
        "y_true = denorm(Y_test)"
      ],
      "execution_count": 70,
      "outputs": []
    },
    {
      "cell_type": "code",
      "metadata": {
        "id": "Z2XI_h02xDHD"
      },
      "source": [
        "y_pred = y_pred.flatten()"
      ],
      "execution_count": 71,
      "outputs": []
    },
    {
      "cell_type": "code",
      "metadata": {
        "colab": {
          "base_uri": "https://localhost:8080/"
        },
        "id": "HFAclp1OxE9K",
        "outputId": "c6561b28-7071-433e-d22c-b06478ba07ab"
      },
      "source": [
        "y_pred.shape"
      ],
      "execution_count": 72,
      "outputs": [
        {
          "output_type": "execute_result",
          "data": {
            "text/plain": [
              "(309,)"
            ]
          },
          "metadata": {
            "tags": []
          },
          "execution_count": 72
        }
      ]
    },
    {
      "cell_type": "code",
      "metadata": {
        "colab": {
          "base_uri": "https://localhost:8080/"
        },
        "id": "cHuWJToNxG-8",
        "outputId": "f9bf2d10-17f8-4b9d-b901-9dbf50cc6bed"
      },
      "source": [
        "y_true.shape"
      ],
      "execution_count": 73,
      "outputs": [
        {
          "output_type": "execute_result",
          "data": {
            "text/plain": [
              "(309,)"
            ]
          },
          "metadata": {
            "tags": []
          },
          "execution_count": 73
        }
      ]
    },
    {
      "cell_type": "code",
      "metadata": {
        "colab": {
          "base_uri": "https://localhost:8080/",
          "height": 286
        },
        "id": "hXTJE9S-xJBk",
        "outputId": "942df23d-0e48-4f0e-8913-e50912fe33af"
      },
      "source": [
        "import matplotlib.pyplot as plt\n",
        "coef = np.polyfit(y_true,y_pred,1)\n",
        "poly1d_fn = np.poly1d(coef) \n",
        "# poly1d_fn is now a function which takes in x and returns an estimate for y\n",
        "\n",
        "plt.plot(y_true,y_pred, 'yo', y_true, poly1d_fn(y_true), '--k')\n",
        "plt.xlim(0, 100)\n",
        "plt.ylim(0, 100)"
      ],
      "execution_count": 74,
      "outputs": [
        {
          "output_type": "execute_result",
          "data": {
            "text/plain": [
              "(0.0, 100.0)"
            ]
          },
          "metadata": {
            "tags": []
          },
          "execution_count": 74
        },
        {
          "output_type": "display_data",
          "data": {
            "image/png": "[encoded data removed]",
            "text/plain": [
              "<Figure size 432x288 with 1 Axes>"
            ]
          },
          "metadata": {
            "tags": [],
            "needs_background": "light"
          }
        }
      ]
    },
    {
      "cell_type": "code",
      "metadata": {
        "id": "2CH47hnWxY8E"
      },
      "source": [
        ""
      ],
      "execution_count": null,
      "outputs": []
    }
  ]
}