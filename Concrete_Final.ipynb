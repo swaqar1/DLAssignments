{
  "nbformat": 4,
  "nbformat_minor": 0,
  "metadata": {
    "colab": {
      "name": "Concrete_Final.ipynb",
      "provenance": [],
      "collapsed_sections": []
    },
    "kernelspec": {
      "name": "python3",
      "display_name": "Python 3"
    },
    "language_info": {
      "name": "python"
    },
    "accelerator": "GPU"
  },
  "cells": [
    {
      "cell_type": "markdown",
      "metadata": {
        "id": "pEOpvzez0JHj"
      },
      "source": [
        "Assignment: Compresive Strength Concrete Problem\n",
        "Abstract:\n",
        "Concrete is the most important material in civil engineering. The concrete compressive strength (concrete strength to bear the load) is a highly nonlinear function of age and ingredients.\n",
        "\n",
        "\n",
        "Data Set Characteristics:  Multivariate\n",
        "\n",
        "Number of Instances: 1030\n",
        "\n",
        "Area: Physical\n",
        "\n",
        "Attribute Characteristics: Real\n",
        "\n",
        "Number of Attributes: 9\n",
        "\n",
        "Date Donated 2007-08-03\n",
        "\n",
        "Associated Tasks: Regression\n",
        "\n",
        "Missing Values? N/A\n",
        "\n",
        "Number of Web Hits: 231464\n",
        "\n",
        "Description: Features Name\tData Type\tMeasurement\tDescription\n",
        "Cement (component 1)\tquantitative\tkg in a m3 mixture\tInput Variable\n",
        "Blast Furnace Slag (component 2)\tquantitative\tkg in a m3 mixture\tInput Variable\n",
        "\n",
        "Fly Ash (component 3)\tquantitative\tkg in a m3 mixture\tInput Variable\n",
        "Water (component 4)\tquantitative\tkg in a m3 mixture\tInput Variable\n",
        "Superplasticizer (component 5)\tquantitative\tkg in a m3 mixture\tInput Variable\n",
        "Coarse Aggregate (component 6)\tquantitative\tkg in a m3 mixture\tInput Variable\n",
        "Fine Aggregate (component 7)\tquantitative\tkg in a m3 mixture\tInput Variable\n",
        "Age\tquantitative\tDay (1~365)\tInput Variable\n",
        "Concrete compressive strength\tquantitative\tMPa\tOutput Variable\n",
        "\n",
        "WORKFLOW :\n",
        "\n",
        "Load Data\n",
        "\n",
        "Check Missing Values ( If Exist ; Fill each record with mean of its feature )\n",
        "\n",
        "Standardized the Input Variables. Hint: Centeralized the data\n",
        "\n",
        "Split into 50% Training(Samples,Labels) , 30% Test(Samples,Labels) and 20% \n",
        "\n",
        "Validation Data(Samples,Labels).\n",
        "\n",
        "Model : input Layer (No. of features ), 3 hidden layers including 10,8,6 unit & \n",
        "\n",
        "Output Layer with activation function relu/tanh (check by experiment).\n",
        "\n",
        "Compilation Step (Note : Its a Regression problem , select loss , metrics according to it)\n",
        "\n",
        "Train the Model with Epochs (100) and validate it\n",
        "\n",
        "If the model gets overfit tune your model by changing the units , No. of layers , activation function , epochs , add dropout layer or add Regularizer according to the need .\n",
        "\n",
        "Evaluation Step\n",
        "\n",
        "Prediction\n",
        "\n",
        "Load Data:\n",
        "\n"
      ]
    },
    {
      "cell_type": "markdown",
      "metadata": {
        "id": "ANbKFcx8sDTv"
      },
      "source": [
        "Importing Libraries"
      ]
    },
    {
      "cell_type": "code",
      "metadata": {
        "id": "tV_6M2EZ0Kw7"
      },
      "source": [
        "import pandas as pd\n",
        "import numpy as np\n",
        "import matplotlib.pyplot as plt\n",
        "from tensorflow.keras import layers, models, optimizers"
      ],
      "execution_count": 13,
      "outputs": []
    },
    {
      "cell_type": "markdown",
      "metadata": {
        "id": "Oj1AZUnxsJwL"
      },
      "source": [
        "Uploading Datasets"
      ]
    },
    {
      "cell_type": "code",
      "metadata": {
        "id": "tfkTa-TGsHG2"
      },
      "source": [
        "data=pd.read_csv(\"/content/drive/MyDrive/Colab Notebooks/compresive_strength_concrete.csv\")"
      ],
      "execution_count": 14,
      "outputs": []
    },
    {
      "cell_type": "code",
      "metadata": {
        "colab": {
          "base_uri": "https://localhost:8080/"
        },
        "id": "disEYzKZsQQJ",
        "outputId": "3eaf435d-8897-4549-e7ec-801158afcb2a"
      },
      "source": [
        "data.shape"
      ],
      "execution_count": 15,
      "outputs": [
        {
          "output_type": "execute_result",
          "data": {
            "text/plain": [
              "(1030, 9)"
            ]
          },
          "metadata": {
            "tags": []
          },
          "execution_count": 15
        }
      ]
    },
    {
      "cell_type": "code",
      "metadata": {
        "colab": {
          "base_uri": "https://localhost:8080/",
          "height": 255
        },
        "id": "GEknbt__tFm3",
        "outputId": "5f007289-8d59-4932-94f7-dcd1f5190118"
      },
      "source": [
        "data.head()"
      ],
      "execution_count": 16,
      "outputs": [
        {
          "output_type": "execute_result",
          "data": {
            "text/html": [
              "<div>\n",
              "<style scoped>\n",
              "    .dataframe tbody tr th:only-of-type {\n",
              "        vertical-align: middle;\n",
              "    }\n",
              "\n",
              "    .dataframe tbody tr th {\n",
              "        vertical-align: top;\n",
              "    }\n",
              "\n",
              "    .dataframe thead th {\n",
              "        text-align: right;\n",
              "    }\n",
              "</style>\n",
              "<table border=\"1\" class=\"dataframe\">\n",
              "  <thead>\n",
              "    <tr style=\"text-align: right;\">\n",
              "      <th></th>\n",
              "      <th>Cement (component 1)(kg in a m^3 mixture)</th>\n",
              "      <th>Blast Furnace Slag (component 2)(kg in a m^3 mixture)</th>\n",
              "      <th>Fly Ash (component 3)(kg in a m^3 mixture)</th>\n",
              "      <th>Water  (component 4)(kg in a m^3 mixture)</th>\n",
              "      <th>Superplasticizer (component 5)(kg in a m^3 mixture)</th>\n",
              "      <th>Coarse Aggregate  (component 6)(kg in a m^3 mixture)</th>\n",
              "      <th>Fine Aggregate (component 7)(kg in a m^3 mixture)</th>\n",
              "      <th>Age (day)</th>\n",
              "      <th>Concrete compressive strength(MPa, megapascals)</th>\n",
              "    </tr>\n",
              "  </thead>\n",
              "  <tbody>\n",
              "    <tr>\n",
              "      <th>0</th>\n",
              "      <td>540.0</td>\n",
              "      <td>0.0</td>\n",
              "      <td>0.0</td>\n",
              "      <td>162.0</td>\n",
              "      <td>2.5</td>\n",
              "      <td>1040.0</td>\n",
              "      <td>676.0</td>\n",
              "      <td>28</td>\n",
              "      <td>79.99</td>\n",
              "    </tr>\n",
              "    <tr>\n",
              "      <th>1</th>\n",
              "      <td>540.0</td>\n",
              "      <td>0.0</td>\n",
              "      <td>0.0</td>\n",
              "      <td>162.0</td>\n",
              "      <td>2.5</td>\n",
              "      <td>1055.0</td>\n",
              "      <td>676.0</td>\n",
              "      <td>28</td>\n",
              "      <td>61.89</td>\n",
              "    </tr>\n",
              "    <tr>\n",
              "      <th>2</th>\n",
              "      <td>332.5</td>\n",
              "      <td>142.5</td>\n",
              "      <td>0.0</td>\n",
              "      <td>228.0</td>\n",
              "      <td>0.0</td>\n",
              "      <td>932.0</td>\n",
              "      <td>594.0</td>\n",
              "      <td>270</td>\n",
              "      <td>40.27</td>\n",
              "    </tr>\n",
              "    <tr>\n",
              "      <th>3</th>\n",
              "      <td>332.5</td>\n",
              "      <td>142.5</td>\n",
              "      <td>0.0</td>\n",
              "      <td>228.0</td>\n",
              "      <td>0.0</td>\n",
              "      <td>932.0</td>\n",
              "      <td>594.0</td>\n",
              "      <td>365</td>\n",
              "      <td>41.05</td>\n",
              "    </tr>\n",
              "    <tr>\n",
              "      <th>4</th>\n",
              "      <td>198.6</td>\n",
              "      <td>132.4</td>\n",
              "      <td>0.0</td>\n",
              "      <td>192.0</td>\n",
              "      <td>0.0</td>\n",
              "      <td>978.4</td>\n",
              "      <td>825.5</td>\n",
              "      <td>360</td>\n",
              "      <td>44.30</td>\n",
              "    </tr>\n",
              "  </tbody>\n",
              "</table>\n",
              "</div>"
            ],
            "text/plain": [
              "   Cement (component 1)(kg in a m^3 mixture)  ...  Concrete compressive strength(MPa, megapascals) \n",
              "0                                      540.0  ...                                             79.99\n",
              "1                                      540.0  ...                                             61.89\n",
              "2                                      332.5  ...                                             40.27\n",
              "3                                      332.5  ...                                             41.05\n",
              "4                                      198.6  ...                                             44.30\n",
              "\n",
              "[5 rows x 9 columns]"
            ]
          },
          "metadata": {
            "tags": []
          },
          "execution_count": 16
        }
      ]
    },
    {
      "cell_type": "code",
      "metadata": {
        "colab": {
          "base_uri": "https://localhost:8080/"
        },
        "id": "hs7gbnbatLE3",
        "outputId": "0893168b-bc11-4cb0-d877-ec4650acb97a"
      },
      "source": [
        "data.isnull().sum()"
      ],
      "execution_count": 17,
      "outputs": [
        {
          "output_type": "execute_result",
          "data": {
            "text/plain": [
              "Cement (component 1)(kg in a m^3 mixture)                0\n",
              "Blast Furnace Slag (component 2)(kg in a m^3 mixture)    0\n",
              "Fly Ash (component 3)(kg in a m^3 mixture)               0\n",
              "Water  (component 4)(kg in a m^3 mixture)                0\n",
              "Superplasticizer (component 5)(kg in a m^3 mixture)      0\n",
              "Coarse Aggregate  (component 6)(kg in a m^3 mixture)     0\n",
              "Fine Aggregate (component 7)(kg in a m^3 mixture)        0\n",
              "Age (day)                                                0\n",
              "Concrete compressive strength(MPa, megapascals)          0\n",
              "dtype: int64"
            ]
          },
          "metadata": {
            "tags": []
          },
          "execution_count": 17
        }
      ]
    },
    {
      "cell_type": "code",
      "metadata": {
        "colab": {
          "base_uri": "https://localhost:8080/"
        },
        "id": "ea-8oydrtOX_",
        "outputId": "65cb4f5a-52b9-4cd2-e680-fb3bc288bf4d"
      },
      "source": [
        "np.where(data.applymap(lambda x: x == ''))"
      ],
      "execution_count": 18,
      "outputs": [
        {
          "output_type": "execute_result",
          "data": {
            "text/plain": [
              "(array([], dtype=int64), array([], dtype=int64))"
            ]
          },
          "metadata": {
            "tags": []
          },
          "execution_count": 18
        }
      ]
    },
    {
      "cell_type": "code",
      "metadata": {
        "id": "i3h9BfnJtRSE"
      },
      "source": [
        "X_train = data.sample(frac = 0.7, random_state = 123)\n",
        "X_test = data.drop(X_train.index)"
      ],
      "execution_count": 19,
      "outputs": []
    },
    {
      "cell_type": "code",
      "metadata": {
        "colab": {
          "base_uri": "https://localhost:8080/",
          "height": 255
        },
        "id": "IPmAbDb3tU_k",
        "outputId": "6452cb75-39ea-4bfb-8705-4a3d516333ef"
      },
      "source": [
        "X_train.head()"
      ],
      "execution_count": 20,
      "outputs": [
        {
          "output_type": "execute_result",
          "data": {
            "text/html": [
              "<div>\n",
              "<style scoped>\n",
              "    .dataframe tbody tr th:only-of-type {\n",
              "        vertical-align: middle;\n",
              "    }\n",
              "\n",
              "    .dataframe tbody tr th {\n",
              "        vertical-align: top;\n",
              "    }\n",
              "\n",
              "    .dataframe thead th {\n",
              "        text-align: right;\n",
              "    }\n",
              "</style>\n",
              "<table border=\"1\" class=\"dataframe\">\n",
              "  <thead>\n",
              "    <tr style=\"text-align: right;\">\n",
              "      <th></th>\n",
              "      <th>Cement (component 1)(kg in a m^3 mixture)</th>\n",
              "      <th>Blast Furnace Slag (component 2)(kg in a m^3 mixture)</th>\n",
              "      <th>Fly Ash (component 3)(kg in a m^3 mixture)</th>\n",
              "      <th>Water  (component 4)(kg in a m^3 mixture)</th>\n",
              "      <th>Superplasticizer (component 5)(kg in a m^3 mixture)</th>\n",
              "      <th>Coarse Aggregate  (component 6)(kg in a m^3 mixture)</th>\n",
              "      <th>Fine Aggregate (component 7)(kg in a m^3 mixture)</th>\n",
              "      <th>Age (day)</th>\n",
              "      <th>Concrete compressive strength(MPa, megapascals)</th>\n",
              "    </tr>\n",
              "  </thead>\n",
              "  <tbody>\n",
              "    <tr>\n",
              "      <th>134</th>\n",
              "      <td>362.6</td>\n",
              "      <td>189.0</td>\n",
              "      <td>0.0</td>\n",
              "      <td>164.9</td>\n",
              "      <td>11.6</td>\n",
              "      <td>944.7</td>\n",
              "      <td>755.8</td>\n",
              "      <td>28</td>\n",
              "      <td>71.30</td>\n",
              "    </tr>\n",
              "    <tr>\n",
              "      <th>13</th>\n",
              "      <td>190.0</td>\n",
              "      <td>190.0</td>\n",
              "      <td>0.0</td>\n",
              "      <td>228.0</td>\n",
              "      <td>0.0</td>\n",
              "      <td>932.0</td>\n",
              "      <td>670.0</td>\n",
              "      <td>90</td>\n",
              "      <td>42.33</td>\n",
              "    </tr>\n",
              "    <tr>\n",
              "      <th>996</th>\n",
              "      <td>152.6</td>\n",
              "      <td>238.7</td>\n",
              "      <td>0.0</td>\n",
              "      <td>200.0</td>\n",
              "      <td>6.3</td>\n",
              "      <td>1001.8</td>\n",
              "      <td>683.9</td>\n",
              "      <td>28</td>\n",
              "      <td>26.86</td>\n",
              "    </tr>\n",
              "    <tr>\n",
              "      <th>770</th>\n",
              "      <td>349.0</td>\n",
              "      <td>0.0</td>\n",
              "      <td>0.0</td>\n",
              "      <td>192.0</td>\n",
              "      <td>0.0</td>\n",
              "      <td>1047.0</td>\n",
              "      <td>806.0</td>\n",
              "      <td>3</td>\n",
              "      <td>14.99</td>\n",
              "    </tr>\n",
              "    <tr>\n",
              "      <th>937</th>\n",
              "      <td>313.3</td>\n",
              "      <td>0.0</td>\n",
              "      <td>113.0</td>\n",
              "      <td>178.5</td>\n",
              "      <td>8.0</td>\n",
              "      <td>1001.9</td>\n",
              "      <td>688.7</td>\n",
              "      <td>28</td>\n",
              "      <td>36.80</td>\n",
              "    </tr>\n",
              "  </tbody>\n",
              "</table>\n",
              "</div>"
            ],
            "text/plain": [
              "     Cement (component 1)(kg in a m^3 mixture)  ...  Concrete compressive strength(MPa, megapascals) \n",
              "134                                      362.6  ...                                             71.30\n",
              "13                                       190.0  ...                                             42.33\n",
              "996                                      152.6  ...                                             26.86\n",
              "770                                      349.0  ...                                             14.99\n",
              "937                                      313.3  ...                                             36.80\n",
              "\n",
              "[5 rows x 9 columns]"
            ]
          },
          "metadata": {
            "tags": []
          },
          "execution_count": 20
        }
      ]
    },
    {
      "cell_type": "markdown",
      "metadata": {
        "id": "l9n_1RmWteep"
      },
      "source": [
        "Assigninig Features and Variables"
      ]
    },
    {
      "cell_type": "code",
      "metadata": {
        "id": "Swj-63DPtY6b"
      },
      "source": [
        "Y_train = X_train.iloc[:,-1]\n",
        "X_train = X_train.iloc[:,0:-1]\n",
        "Y_test = X_test.iloc[:,-1]\n",
        "X_test = X_test.iloc[:,0:-1]"
      ],
      "execution_count": 21,
      "outputs": []
    },
    {
      "cell_type": "code",
      "metadata": {
        "id": "AtTWMAL0tj-Z"
      },
      "source": [
        "X_mean = X_train.mean()\n",
        "X_train -= X_mean\n",
        "X_std = X_train.std()\n",
        "X_train /= X_std\n",
        "X_test -= X_mean\n",
        "X_test /= X_std"
      ],
      "execution_count": 22,
      "outputs": []
    },
    {
      "cell_type": "code",
      "metadata": {
        "id": "Ntz5papztoFb"
      },
      "source": [
        "Y_mean = Y_train.mean()\n",
        "Y_train -= Y_mean\n",
        "Y_std = Y_train.std()\n",
        "Y_train /= Y_std\n",
        "Y_test -= Y_mean\n",
        "Y_test /= Y_std"
      ],
      "execution_count": 23,
      "outputs": []
    },
    {
      "cell_type": "code",
      "metadata": {
        "colab": {
          "base_uri": "https://localhost:8080/"
        },
        "id": "ZKp0U7fPtsW_",
        "outputId": "a532f0ab-e80e-410d-ad8d-d2807e50063e"
      },
      "source": [
        "X_train.dtypes"
      ],
      "execution_count": 24,
      "outputs": [
        {
          "output_type": "execute_result",
          "data": {
            "text/plain": [
              "Cement (component 1)(kg in a m^3 mixture)                float64\n",
              "Blast Furnace Slag (component 2)(kg in a m^3 mixture)    float64\n",
              "Fly Ash (component 3)(kg in a m^3 mixture)               float64\n",
              "Water  (component 4)(kg in a m^3 mixture)                float64\n",
              "Superplasticizer (component 5)(kg in a m^3 mixture)      float64\n",
              "Coarse Aggregate  (component 6)(kg in a m^3 mixture)     float64\n",
              "Fine Aggregate (component 7)(kg in a m^3 mixture)        float64\n",
              "Age (day)                                                float64\n",
              "dtype: object"
            ]
          },
          "metadata": {
            "tags": []
          },
          "execution_count": 24
        }
      ]
    },
    {
      "cell_type": "code",
      "metadata": {
        "id": "diF5slMZt31G"
      },
      "source": [
        "X_train = X_train.to_numpy()\n",
        "Y_train = Y_train.to_numpy()\n",
        "X_test = X_test.to_numpy()\n",
        "Y_test = Y_test.to_numpy()"
      ],
      "execution_count": 25,
      "outputs": []
    },
    {
      "cell_type": "markdown",
      "metadata": {
        "id": "j4-iGNtCuYQl"
      },
      "source": [
        "Training & Data Splitting"
      ]
    },
    {
      "cell_type": "code",
      "metadata": {
        "id": "CAkgh7FUt6Rt"
      },
      "source": [
        "network = models.Sequential()\n",
        "network.add(layers.Dense(128,activation=\"relu\",input_shape=(X_train.shape[1],)))\n",
        "network.add(layers.Dense(64,activation=\"relu\"))\n",
        "network.add(layers.Dense(32,activation=\"relu\"))\n",
        "network.add(layers.Dense(1))"
      ],
      "execution_count": 26,
      "outputs": []
    },
    {
      "cell_type": "markdown",
      "metadata": {
        "id": "wVhsuB3pu5ki"
      },
      "source": [
        "Model Compilation"
      ]
    },
    {
      "cell_type": "code",
      "metadata": {
        "id": "MaK5W70Tu8vn"
      },
      "source": [
        "network.compile(optimizer=\"rmsprop\",loss=[\"mse\"],metrics=[\"mae\"])"
      ],
      "execution_count": 27,
      "outputs": []
    },
    {
      "cell_type": "code",
      "metadata": {
        "colab": {
          "base_uri": "https://localhost:8080/"
        },
        "id": "qmU4GWsKvAUZ",
        "outputId": "e43908c5-fd46-41ed-dfe2-01a22dfd9667"
      },
      "source": [
        "history = network.fit(X_train,Y_train,epochs=200,validation_split=0.3)"
      ],
      "execution_count": 28,
      "outputs": [
        {
          "output_type": "stream",
          "text": [
            "Epoch 1/200\n",
            "16/16 [==============================] - 3s 14ms/step - loss: 0.6482 - mae: 0.6569 - val_loss: 0.4197 - val_mae: 0.5120\n",
            "Epoch 2/200\n",
            "16/16 [==============================] - 0s 4ms/step - loss: 0.3482 - mae: 0.4677 - val_loss: 0.3794 - val_mae: 0.4904\n",
            "Epoch 3/200\n",
            "16/16 [==============================] - 0s 4ms/step - loss: 0.2769 - mae: 0.4202 - val_loss: 0.3199 - val_mae: 0.4287\n",
            "Epoch 4/200\n",
            "16/16 [==============================] - 0s 4ms/step - loss: 0.2366 - mae: 0.3812 - val_loss: 0.2977 - val_mae: 0.4257\n",
            "Epoch 5/200\n",
            "16/16 [==============================] - 0s 5ms/step - loss: 0.1965 - mae: 0.3412 - val_loss: 0.2608 - val_mae: 0.3987\n",
            "Epoch 6/200\n",
            "16/16 [==============================] - 0s 4ms/step - loss: 0.1626 - mae: 0.3165 - val_loss: 0.2468 - val_mae: 0.3807\n",
            "Epoch 7/200\n",
            "16/16 [==============================] - 0s 4ms/step - loss: 0.1519 - mae: 0.2999 - val_loss: 0.2413 - val_mae: 0.3758\n",
            "Epoch 8/200\n",
            "16/16 [==============================] - 0s 5ms/step - loss: 0.1255 - mae: 0.2807 - val_loss: 0.2361 - val_mae: 0.3774\n",
            "Epoch 9/200\n",
            "16/16 [==============================] - 0s 4ms/step - loss: 0.1279 - mae: 0.2890 - val_loss: 0.2227 - val_mae: 0.3514\n",
            "Epoch 10/200\n",
            "16/16 [==============================] - 0s 4ms/step - loss: 0.1092 - mae: 0.2605 - val_loss: 0.2638 - val_mae: 0.3738\n",
            "Epoch 11/200\n",
            "16/16 [==============================] - 0s 4ms/step - loss: 0.1227 - mae: 0.2781 - val_loss: 0.2234 - val_mae: 0.3546\n",
            "Epoch 12/200\n",
            "16/16 [==============================] - 0s 4ms/step - loss: 0.1172 - mae: 0.2629 - val_loss: 0.2031 - val_mae: 0.3451\n",
            "Epoch 13/200\n",
            "16/16 [==============================] - 0s 5ms/step - loss: 0.1042 - mae: 0.2560 - val_loss: 0.2039 - val_mae: 0.3378\n",
            "Epoch 14/200\n",
            "16/16 [==============================] - 0s 4ms/step - loss: 0.0937 - mae: 0.2432 - val_loss: 0.1961 - val_mae: 0.3328\n",
            "Epoch 15/200\n",
            "16/16 [==============================] - 0s 4ms/step - loss: 0.0821 - mae: 0.2255 - val_loss: 0.2023 - val_mae: 0.3375\n",
            "Epoch 16/200\n",
            "16/16 [==============================] - 0s 4ms/step - loss: 0.0860 - mae: 0.2261 - val_loss: 0.2328 - val_mae: 0.3604\n",
            "Epoch 17/200\n",
            "16/16 [==============================] - 0s 4ms/step - loss: 0.0774 - mae: 0.2175 - val_loss: 0.2174 - val_mae: 0.3511\n",
            "Epoch 18/200\n",
            "16/16 [==============================] - 0s 4ms/step - loss: 0.0823 - mae: 0.2245 - val_loss: 0.1826 - val_mae: 0.3188\n",
            "Epoch 19/200\n",
            "16/16 [==============================] - 0s 4ms/step - loss: 0.0812 - mae: 0.2154 - val_loss: 0.1755 - val_mae: 0.3145\n",
            "Epoch 20/200\n",
            "16/16 [==============================] - 0s 4ms/step - loss: 0.0762 - mae: 0.2146 - val_loss: 0.1772 - val_mae: 0.3163\n",
            "Epoch 21/200\n",
            "16/16 [==============================] - 0s 4ms/step - loss: 0.0610 - mae: 0.1908 - val_loss: 0.1686 - val_mae: 0.3039\n",
            "Epoch 22/200\n",
            "16/16 [==============================] - 0s 4ms/step - loss: 0.0735 - mae: 0.2077 - val_loss: 0.1583 - val_mae: 0.2956\n",
            "Epoch 23/200\n",
            "16/16 [==============================] - 0s 4ms/step - loss: 0.0698 - mae: 0.2033 - val_loss: 0.1624 - val_mae: 0.3055\n",
            "Epoch 24/200\n",
            "16/16 [==============================] - 0s 4ms/step - loss: 0.0686 - mae: 0.2036 - val_loss: 0.1831 - val_mae: 0.3162\n",
            "Epoch 25/200\n",
            "16/16 [==============================] - 0s 4ms/step - loss: 0.0639 - mae: 0.1935 - val_loss: 0.1758 - val_mae: 0.3068\n",
            "Epoch 26/200\n",
            "16/16 [==============================] - 0s 4ms/step - loss: 0.0628 - mae: 0.1961 - val_loss: 0.1726 - val_mae: 0.3048\n",
            "Epoch 27/200\n",
            "16/16 [==============================] - 0s 5ms/step - loss: 0.0613 - mae: 0.1905 - val_loss: 0.1979 - val_mae: 0.3239\n",
            "Epoch 28/200\n",
            "16/16 [==============================] - 0s 4ms/step - loss: 0.0593 - mae: 0.1888 - val_loss: 0.2083 - val_mae: 0.3578\n",
            "Epoch 29/200\n",
            "16/16 [==============================] - 0s 4ms/step - loss: 0.0640 - mae: 0.1968 - val_loss: 0.1713 - val_mae: 0.3030\n",
            "Epoch 30/200\n",
            "16/16 [==============================] - 0s 5ms/step - loss: 0.0753 - mae: 0.2103 - val_loss: 0.1513 - val_mae: 0.2833\n",
            "Epoch 31/200\n",
            "16/16 [==============================] - 0s 4ms/step - loss: 0.0495 - mae: 0.1695 - val_loss: 0.1835 - val_mae: 0.3187\n",
            "Epoch 32/200\n",
            "16/16 [==============================] - 0s 4ms/step - loss: 0.0511 - mae: 0.1716 - val_loss: 0.1509 - val_mae: 0.2905\n",
            "Epoch 33/200\n",
            "16/16 [==============================] - 0s 5ms/step - loss: 0.0479 - mae: 0.1682 - val_loss: 0.1577 - val_mae: 0.2951\n",
            "Epoch 34/200\n",
            "16/16 [==============================] - 0s 4ms/step - loss: 0.0479 - mae: 0.1664 - val_loss: 0.1592 - val_mae: 0.2948\n",
            "Epoch 35/200\n",
            "16/16 [==============================] - 0s 4ms/step - loss: 0.0528 - mae: 0.1758 - val_loss: 0.1480 - val_mae: 0.2886\n",
            "Epoch 36/200\n",
            "16/16 [==============================] - 0s 4ms/step - loss: 0.0408 - mae: 0.1547 - val_loss: 0.1533 - val_mae: 0.2862\n",
            "Epoch 37/200\n",
            "16/16 [==============================] - 0s 4ms/step - loss: 0.0605 - mae: 0.1900 - val_loss: 0.1579 - val_mae: 0.2937\n",
            "Epoch 38/200\n",
            "16/16 [==============================] - 0s 4ms/step - loss: 0.0404 - mae: 0.1490 - val_loss: 0.1878 - val_mae: 0.3328\n",
            "Epoch 39/200\n",
            "16/16 [==============================] - 0s 4ms/step - loss: 0.0502 - mae: 0.1747 - val_loss: 0.1513 - val_mae: 0.2923\n",
            "Epoch 40/200\n",
            "16/16 [==============================] - 0s 4ms/step - loss: 0.0464 - mae: 0.1662 - val_loss: 0.1767 - val_mae: 0.3185\n",
            "Epoch 41/200\n",
            "16/16 [==============================] - 0s 4ms/step - loss: 0.0468 - mae: 0.1656 - val_loss: 0.1720 - val_mae: 0.3038\n",
            "Epoch 42/200\n",
            "16/16 [==============================] - 0s 4ms/step - loss: 0.0629 - mae: 0.1824 - val_loss: 0.1532 - val_mae: 0.2862\n",
            "Epoch 43/200\n",
            "16/16 [==============================] - 0s 4ms/step - loss: 0.0512 - mae: 0.1681 - val_loss: 0.1653 - val_mae: 0.3030\n",
            "Epoch 44/200\n",
            "16/16 [==============================] - 0s 4ms/step - loss: 0.0505 - mae: 0.1712 - val_loss: 0.1479 - val_mae: 0.2824\n",
            "Epoch 45/200\n",
            "16/16 [==============================] - 0s 4ms/step - loss: 0.0413 - mae: 0.1567 - val_loss: 0.1703 - val_mae: 0.2976\n",
            "Epoch 46/200\n",
            "16/16 [==============================] - 0s 4ms/step - loss: 0.0411 - mae: 0.1532 - val_loss: 0.1550 - val_mae: 0.2911\n",
            "Epoch 47/200\n",
            "16/16 [==============================] - 0s 4ms/step - loss: 0.0525 - mae: 0.1728 - val_loss: 0.1722 - val_mae: 0.3113\n",
            "Epoch 48/200\n",
            "16/16 [==============================] - 0s 4ms/step - loss: 0.0558 - mae: 0.1748 - val_loss: 0.1556 - val_mae: 0.2887\n",
            "Epoch 49/200\n",
            "16/16 [==============================] - 0s 4ms/step - loss: 0.0435 - mae: 0.1594 - val_loss: 0.1531 - val_mae: 0.2792\n",
            "Epoch 50/200\n",
            "16/16 [==============================] - 0s 4ms/step - loss: 0.0436 - mae: 0.1564 - val_loss: 0.1618 - val_mae: 0.2874\n",
            "Epoch 51/200\n",
            "16/16 [==============================] - 0s 4ms/step - loss: 0.0450 - mae: 0.1611 - val_loss: 0.2178 - val_mae: 0.3575\n",
            "Epoch 52/200\n",
            "16/16 [==============================] - 0s 4ms/step - loss: 0.0509 - mae: 0.1727 - val_loss: 0.1471 - val_mae: 0.2800\n",
            "Epoch 53/200\n",
            "16/16 [==============================] - 0s 4ms/step - loss: 0.0356 - mae: 0.1378 - val_loss: 0.1603 - val_mae: 0.2987\n",
            "Epoch 54/200\n",
            "16/16 [==============================] - 0s 4ms/step - loss: 0.0510 - mae: 0.1654 - val_loss: 0.1969 - val_mae: 0.3270\n",
            "Epoch 55/200\n",
            "16/16 [==============================] - 0s 4ms/step - loss: 0.0370 - mae: 0.1475 - val_loss: 0.1503 - val_mae: 0.2903\n",
            "Epoch 56/200\n",
            "16/16 [==============================] - 0s 5ms/step - loss: 0.0356 - mae: 0.1423 - val_loss: 0.2092 - val_mae: 0.3513\n",
            "Epoch 57/200\n",
            "16/16 [==============================] - 0s 4ms/step - loss: 0.0536 - mae: 0.1757 - val_loss: 0.1446 - val_mae: 0.2781\n",
            "Epoch 58/200\n",
            "16/16 [==============================] - 0s 4ms/step - loss: 0.0413 - mae: 0.1542 - val_loss: 0.1482 - val_mae: 0.2807\n",
            "Epoch 59/200\n",
            "16/16 [==============================] - 0s 4ms/step - loss: 0.0439 - mae: 0.1515 - val_loss: 0.1629 - val_mae: 0.3031\n",
            "Epoch 60/200\n",
            "16/16 [==============================] - 0s 4ms/step - loss: 0.0341 - mae: 0.1352 - val_loss: 0.1531 - val_mae: 0.2873\n",
            "Epoch 61/200\n",
            "16/16 [==============================] - 0s 4ms/step - loss: 0.0518 - mae: 0.1764 - val_loss: 0.1370 - val_mae: 0.2678\n",
            "Epoch 62/200\n",
            "16/16 [==============================] - 0s 4ms/step - loss: 0.0382 - mae: 0.1429 - val_loss: 0.1345 - val_mae: 0.2675\n",
            "Epoch 63/200\n",
            "16/16 [==============================] - 0s 4ms/step - loss: 0.0418 - mae: 0.1501 - val_loss: 0.1367 - val_mae: 0.2683\n",
            "Epoch 64/200\n",
            "16/16 [==============================] - 0s 4ms/step - loss: 0.0320 - mae: 0.1316 - val_loss: 0.1302 - val_mae: 0.2684\n",
            "Epoch 65/200\n",
            "16/16 [==============================] - 0s 4ms/step - loss: 0.0297 - mae: 0.1238 - val_loss: 0.1507 - val_mae: 0.2811\n",
            "Epoch 66/200\n",
            "16/16 [==============================] - 0s 4ms/step - loss: 0.0508 - mae: 0.1604 - val_loss: 0.1464 - val_mae: 0.2832\n",
            "Epoch 67/200\n",
            "16/16 [==============================] - 0s 4ms/step - loss: 0.0430 - mae: 0.1490 - val_loss: 0.1406 - val_mae: 0.2784\n",
            "Epoch 68/200\n",
            "16/16 [==============================] - 0s 4ms/step - loss: 0.0398 - mae: 0.1510 - val_loss: 0.1385 - val_mae: 0.2713\n",
            "Epoch 69/200\n",
            "16/16 [==============================] - 0s 5ms/step - loss: 0.0285 - mae: 0.1215 - val_loss: 0.1519 - val_mae: 0.2866\n",
            "Epoch 70/200\n",
            "16/16 [==============================] - 0s 4ms/step - loss: 0.0316 - mae: 0.1283 - val_loss: 0.1655 - val_mae: 0.3021\n",
            "Epoch 71/200\n",
            "16/16 [==============================] - 0s 4ms/step - loss: 0.0327 - mae: 0.1332 - val_loss: 0.1410 - val_mae: 0.2775\n",
            "Epoch 72/200\n",
            "16/16 [==============================] - 0s 4ms/step - loss: 0.0403 - mae: 0.1510 - val_loss: 0.1401 - val_mae: 0.2733\n",
            "Epoch 73/200\n",
            "16/16 [==============================] - 0s 4ms/step - loss: 0.0344 - mae: 0.1257 - val_loss: 0.1333 - val_mae: 0.2685\n",
            "Epoch 74/200\n",
            "16/16 [==============================] - 0s 4ms/step - loss: 0.0388 - mae: 0.1335 - val_loss: 0.1582 - val_mae: 0.2947\n",
            "Epoch 75/200\n",
            "16/16 [==============================] - 0s 4ms/step - loss: 0.0472 - mae: 0.1535 - val_loss: 0.1416 - val_mae: 0.2714\n",
            "Epoch 76/200\n",
            "16/16 [==============================] - 0s 4ms/step - loss: 0.0386 - mae: 0.1419 - val_loss: 0.1326 - val_mae: 0.2631\n",
            "Epoch 77/200\n",
            "16/16 [==============================] - 0s 4ms/step - loss: 0.0315 - mae: 0.1258 - val_loss: 0.1404 - val_mae: 0.2684\n",
            "Epoch 78/200\n",
            "16/16 [==============================] - 0s 4ms/step - loss: 0.0321 - mae: 0.1315 - val_loss: 0.1605 - val_mae: 0.2943\n",
            "Epoch 79/200\n",
            "16/16 [==============================] - 0s 4ms/step - loss: 0.0377 - mae: 0.1456 - val_loss: 0.1364 - val_mae: 0.2680\n",
            "Epoch 80/200\n",
            "16/16 [==============================] - 0s 4ms/step - loss: 0.0316 - mae: 0.1302 - val_loss: 0.1359 - val_mae: 0.2649\n",
            "Epoch 81/200\n",
            "16/16 [==============================] - 0s 4ms/step - loss: 0.0245 - mae: 0.1112 - val_loss: 0.1461 - val_mae: 0.2751\n",
            "Epoch 82/200\n",
            "16/16 [==============================] - 0s 4ms/step - loss: 0.0464 - mae: 0.1492 - val_loss: 0.1381 - val_mae: 0.2704\n",
            "Epoch 83/200\n",
            "16/16 [==============================] - 0s 4ms/step - loss: 0.0397 - mae: 0.1449 - val_loss: 0.1568 - val_mae: 0.2908\n",
            "Epoch 84/200\n",
            "16/16 [==============================] - 0s 4ms/step - loss: 0.0427 - mae: 0.1558 - val_loss: 0.1410 - val_mae: 0.2779\n",
            "Epoch 85/200\n",
            "16/16 [==============================] - 0s 5ms/step - loss: 0.0338 - mae: 0.1293 - val_loss: 0.1471 - val_mae: 0.2860\n",
            "Epoch 86/200\n",
            "16/16 [==============================] - 0s 4ms/step - loss: 0.0341 - mae: 0.1328 - val_loss: 0.1441 - val_mae: 0.2736\n",
            "Epoch 87/200\n",
            "16/16 [==============================] - 0s 4ms/step - loss: 0.0270 - mae: 0.1193 - val_loss: 0.1493 - val_mae: 0.2811\n",
            "Epoch 88/200\n",
            "16/16 [==============================] - 0s 4ms/step - loss: 0.0408 - mae: 0.1447 - val_loss: 0.1258 - val_mae: 0.2618\n",
            "Epoch 89/200\n",
            "16/16 [==============================] - 0s 4ms/step - loss: 0.0286 - mae: 0.1267 - val_loss: 0.1549 - val_mae: 0.2824\n",
            "Epoch 90/200\n",
            "16/16 [==============================] - 0s 4ms/step - loss: 0.0305 - mae: 0.1306 - val_loss: 0.1542 - val_mae: 0.2966\n",
            "Epoch 91/200\n",
            "16/16 [==============================] - 0s 4ms/step - loss: 0.0353 - mae: 0.1313 - val_loss: 0.1545 - val_mae: 0.2897\n",
            "Epoch 92/200\n",
            "16/16 [==============================] - 0s 4ms/step - loss: 0.0354 - mae: 0.1366 - val_loss: 0.1289 - val_mae: 0.2579\n",
            "Epoch 93/200\n",
            "16/16 [==============================] - 0s 4ms/step - loss: 0.0357 - mae: 0.1370 - val_loss: 0.1315 - val_mae: 0.2612\n",
            "Epoch 94/200\n",
            "16/16 [==============================] - 0s 4ms/step - loss: 0.0310 - mae: 0.1249 - val_loss: 0.1486 - val_mae: 0.2920\n",
            "Epoch 95/200\n",
            "16/16 [==============================] - 0s 4ms/step - loss: 0.0342 - mae: 0.1282 - val_loss: 0.1461 - val_mae: 0.2815\n",
            "Epoch 96/200\n",
            "16/16 [==============================] - 0s 4ms/step - loss: 0.0356 - mae: 0.1456 - val_loss: 0.1337 - val_mae: 0.2647\n",
            "Epoch 97/200\n",
            "16/16 [==============================] - 0s 5ms/step - loss: 0.0326 - mae: 0.1251 - val_loss: 0.1673 - val_mae: 0.2995\n",
            "Epoch 98/200\n",
            "16/16 [==============================] - 0s 4ms/step - loss: 0.0464 - mae: 0.1503 - val_loss: 0.1368 - val_mae: 0.2719\n",
            "Epoch 99/200\n",
            "16/16 [==============================] - 0s 4ms/step - loss: 0.0310 - mae: 0.1256 - val_loss: 0.1372 - val_mae: 0.2644\n",
            "Epoch 100/200\n",
            "16/16 [==============================] - 0s 4ms/step - loss: 0.0301 - mae: 0.1232 - val_loss: 0.1329 - val_mae: 0.2630\n",
            "Epoch 101/200\n",
            "16/16 [==============================] - 0s 5ms/step - loss: 0.0273 - mae: 0.1195 - val_loss: 0.1379 - val_mae: 0.2681\n",
            "Epoch 102/200\n",
            "16/16 [==============================] - 0s 4ms/step - loss: 0.0312 - mae: 0.1234 - val_loss: 0.1352 - val_mae: 0.2664\n",
            "Epoch 103/200\n",
            "16/16 [==============================] - 0s 4ms/step - loss: 0.0267 - mae: 0.1208 - val_loss: 0.1458 - val_mae: 0.2718\n",
            "Epoch 104/200\n",
            "16/16 [==============================] - 0s 4ms/step - loss: 0.0422 - mae: 0.1406 - val_loss: 0.1363 - val_mae: 0.2699\n",
            "Epoch 105/200\n",
            "16/16 [==============================] - 0s 4ms/step - loss: 0.0311 - mae: 0.1252 - val_loss: 0.1527 - val_mae: 0.2806\n",
            "Epoch 106/200\n",
            "16/16 [==============================] - 0s 4ms/step - loss: 0.0262 - mae: 0.1173 - val_loss: 0.1414 - val_mae: 0.2739\n",
            "Epoch 107/200\n",
            "16/16 [==============================] - 0s 4ms/step - loss: 0.0328 - mae: 0.1400 - val_loss: 0.1349 - val_mae: 0.2699\n",
            "Epoch 108/200\n",
            "16/16 [==============================] - 0s 4ms/step - loss: 0.0296 - mae: 0.1260 - val_loss: 0.1336 - val_mae: 0.2648\n",
            "Epoch 109/200\n",
            "16/16 [==============================] - 0s 4ms/step - loss: 0.0258 - mae: 0.1148 - val_loss: 0.1423 - val_mae: 0.2773\n",
            "Epoch 110/200\n",
            "16/16 [==============================] - 0s 4ms/step - loss: 0.0293 - mae: 0.1253 - val_loss: 0.1499 - val_mae: 0.2913\n",
            "Epoch 111/200\n",
            "16/16 [==============================] - 0s 5ms/step - loss: 0.0373 - mae: 0.1428 - val_loss: 0.1758 - val_mae: 0.3109\n",
            "Epoch 112/200\n",
            "16/16 [==============================] - 0s 4ms/step - loss: 0.0289 - mae: 0.1244 - val_loss: 0.1681 - val_mae: 0.3011\n",
            "Epoch 113/200\n",
            "16/16 [==============================] - 0s 4ms/step - loss: 0.0306 - mae: 0.1248 - val_loss: 0.1378 - val_mae: 0.2783\n",
            "Epoch 114/200\n",
            "16/16 [==============================] - 0s 4ms/step - loss: 0.0245 - mae: 0.1116 - val_loss: 0.1684 - val_mae: 0.3092\n",
            "Epoch 115/200\n",
            "16/16 [==============================] - 0s 5ms/step - loss: 0.0272 - mae: 0.1206 - val_loss: 0.1392 - val_mae: 0.2609\n",
            "Epoch 116/200\n",
            "16/16 [==============================] - 0s 4ms/step - loss: 0.0379 - mae: 0.1306 - val_loss: 0.1327 - val_mae: 0.2674\n",
            "Epoch 117/200\n",
            "16/16 [==============================] - 0s 4ms/step - loss: 0.0302 - mae: 0.1259 - val_loss: 0.1405 - val_mae: 0.2736\n",
            "Epoch 118/200\n",
            "16/16 [==============================] - 0s 5ms/step - loss: 0.0294 - mae: 0.1220 - val_loss: 0.1408 - val_mae: 0.2683\n",
            "Epoch 119/200\n",
            "16/16 [==============================] - 0s 4ms/step - loss: 0.0228 - mae: 0.1054 - val_loss: 0.1401 - val_mae: 0.2673\n",
            "Epoch 120/200\n",
            "16/16 [==============================] - 0s 4ms/step - loss: 0.0313 - mae: 0.1304 - val_loss: 0.1446 - val_mae: 0.2693\n",
            "Epoch 121/200\n",
            "16/16 [==============================] - 0s 4ms/step - loss: 0.0308 - mae: 0.1289 - val_loss: 0.1463 - val_mae: 0.2807\n",
            "Epoch 122/200\n",
            "16/16 [==============================] - 0s 4ms/step - loss: 0.0190 - mae: 0.1010 - val_loss: 0.1635 - val_mae: 0.2915\n",
            "Epoch 123/200\n",
            "16/16 [==============================] - 0s 4ms/step - loss: 0.0295 - mae: 0.1234 - val_loss: 0.1415 - val_mae: 0.2764\n",
            "Epoch 124/200\n",
            "16/16 [==============================] - 0s 4ms/step - loss: 0.0244 - mae: 0.1078 - val_loss: 0.1365 - val_mae: 0.2662\n",
            "Epoch 125/200\n",
            "16/16 [==============================] - 0s 5ms/step - loss: 0.0273 - mae: 0.1212 - val_loss: 0.1410 - val_mae: 0.2753\n",
            "Epoch 126/200\n",
            "16/16 [==============================] - 0s 4ms/step - loss: 0.0315 - mae: 0.1166 - val_loss: 0.1437 - val_mae: 0.2712\n",
            "Epoch 127/200\n",
            "16/16 [==============================] - 0s 4ms/step - loss: 0.0278 - mae: 0.1174 - val_loss: 0.1577 - val_mae: 0.2997\n",
            "Epoch 128/200\n",
            "16/16 [==============================] - 0s 4ms/step - loss: 0.0215 - mae: 0.1134 - val_loss: 0.1371 - val_mae: 0.2595\n",
            "Epoch 129/200\n",
            "16/16 [==============================] - 0s 4ms/step - loss: 0.0310 - mae: 0.1207 - val_loss: 0.1327 - val_mae: 0.2575\n",
            "Epoch 130/200\n",
            "16/16 [==============================] - 0s 4ms/step - loss: 0.0230 - mae: 0.1111 - val_loss: 0.1596 - val_mae: 0.3038\n",
            "Epoch 131/200\n",
            "16/16 [==============================] - 0s 4ms/step - loss: 0.0362 - mae: 0.1401 - val_loss: 0.1373 - val_mae: 0.2590\n",
            "Epoch 132/200\n",
            "16/16 [==============================] - 0s 4ms/step - loss: 0.0221 - mae: 0.1051 - val_loss: 0.1302 - val_mae: 0.2620\n",
            "Epoch 133/200\n",
            "16/16 [==============================] - 0s 4ms/step - loss: 0.0247 - mae: 0.1104 - val_loss: 0.1344 - val_mae: 0.2615\n",
            "Epoch 134/200\n",
            "16/16 [==============================] - 0s 5ms/step - loss: 0.0378 - mae: 0.1412 - val_loss: 0.1328 - val_mae: 0.2720\n",
            "Epoch 135/200\n",
            "16/16 [==============================] - 0s 4ms/step - loss: 0.0311 - mae: 0.1273 - val_loss: 0.1291 - val_mae: 0.2553\n",
            "Epoch 136/200\n",
            "16/16 [==============================] - 0s 4ms/step - loss: 0.0268 - mae: 0.1138 - val_loss: 0.1381 - val_mae: 0.2675\n",
            "Epoch 137/200\n",
            "16/16 [==============================] - 0s 4ms/step - loss: 0.0301 - mae: 0.1200 - val_loss: 0.1395 - val_mae: 0.2688\n",
            "Epoch 138/200\n",
            "16/16 [==============================] - 0s 4ms/step - loss: 0.0272 - mae: 0.1141 - val_loss: 0.1380 - val_mae: 0.2699\n",
            "Epoch 139/200\n",
            "16/16 [==============================] - 0s 4ms/step - loss: 0.0223 - mae: 0.1053 - val_loss: 0.1286 - val_mae: 0.2606\n",
            "Epoch 140/200\n",
            "16/16 [==============================] - 0s 4ms/step - loss: 0.0247 - mae: 0.1110 - val_loss: 0.1353 - val_mae: 0.2599\n",
            "Epoch 141/200\n",
            "16/16 [==============================] - 0s 4ms/step - loss: 0.0267 - mae: 0.1188 - val_loss: 0.1381 - val_mae: 0.2642\n",
            "Epoch 142/200\n",
            "16/16 [==============================] - 0s 4ms/step - loss: 0.0264 - mae: 0.1158 - val_loss: 0.1387 - val_mae: 0.2571\n",
            "Epoch 143/200\n",
            "16/16 [==============================] - 0s 4ms/step - loss: 0.0244 - mae: 0.1108 - val_loss: 0.1375 - val_mae: 0.2679\n",
            "Epoch 144/200\n",
            "16/16 [==============================] - 0s 4ms/step - loss: 0.0275 - mae: 0.1228 - val_loss: 0.1494 - val_mae: 0.2869\n",
            "Epoch 145/200\n",
            "16/16 [==============================] - 0s 4ms/step - loss: 0.0315 - mae: 0.1231 - val_loss: 0.1380 - val_mae: 0.2667\n",
            "Epoch 146/200\n",
            "16/16 [==============================] - 0s 4ms/step - loss: 0.0248 - mae: 0.1049 - val_loss: 0.1368 - val_mae: 0.2711\n",
            "Epoch 147/200\n",
            "16/16 [==============================] - 0s 4ms/step - loss: 0.0225 - mae: 0.1118 - val_loss: 0.1433 - val_mae: 0.2806\n",
            "Epoch 148/200\n",
            "16/16 [==============================] - 0s 4ms/step - loss: 0.0233 - mae: 0.1111 - val_loss: 0.1382 - val_mae: 0.2790\n",
            "Epoch 149/200\n",
            "16/16 [==============================] - 0s 4ms/step - loss: 0.0334 - mae: 0.1310 - val_loss: 0.1305 - val_mae: 0.2614\n",
            "Epoch 150/200\n",
            "16/16 [==============================] - 0s 4ms/step - loss: 0.0229 - mae: 0.1080 - val_loss: 0.1407 - val_mae: 0.2706\n",
            "Epoch 151/200\n",
            "16/16 [==============================] - 0s 4ms/step - loss: 0.0280 - mae: 0.1226 - val_loss: 0.1256 - val_mae: 0.2568\n",
            "Epoch 152/200\n",
            "16/16 [==============================] - 0s 5ms/step - loss: 0.0279 - mae: 0.1211 - val_loss: 0.1257 - val_mae: 0.2514\n",
            "Epoch 153/200\n",
            "16/16 [==============================] - 0s 5ms/step - loss: 0.0209 - mae: 0.1004 - val_loss: 0.1371 - val_mae: 0.2655\n",
            "Epoch 154/200\n",
            "16/16 [==============================] - 0s 4ms/step - loss: 0.0225 - mae: 0.1039 - val_loss: 0.1249 - val_mae: 0.2532\n",
            "Epoch 155/200\n",
            "16/16 [==============================] - 0s 4ms/step - loss: 0.0181 - mae: 0.0946 - val_loss: 0.1296 - val_mae: 0.2621\n",
            "Epoch 156/200\n",
            "16/16 [==============================] - 0s 4ms/step - loss: 0.0274 - mae: 0.1143 - val_loss: 0.1327 - val_mae: 0.2603\n",
            "Epoch 157/200\n",
            "16/16 [==============================] - 0s 4ms/step - loss: 0.0203 - mae: 0.1017 - val_loss: 0.1470 - val_mae: 0.2750\n",
            "Epoch 158/200\n",
            "16/16 [==============================] - 0s 4ms/step - loss: 0.0254 - mae: 0.1119 - val_loss: 0.1293 - val_mae: 0.2587\n",
            "Epoch 159/200\n",
            "16/16 [==============================] - 0s 4ms/step - loss: 0.0203 - mae: 0.0951 - val_loss: 0.1360 - val_mae: 0.2694\n",
            "Epoch 160/200\n",
            "16/16 [==============================] - 0s 4ms/step - loss: 0.0210 - mae: 0.1040 - val_loss: 0.1317 - val_mae: 0.2640\n",
            "Epoch 161/200\n",
            "16/16 [==============================] - 0s 4ms/step - loss: 0.0204 - mae: 0.1022 - val_loss: 0.1340 - val_mae: 0.2656\n",
            "Epoch 162/200\n",
            "16/16 [==============================] - 0s 4ms/step - loss: 0.0272 - mae: 0.1114 - val_loss: 0.1364 - val_mae: 0.2646\n",
            "Epoch 163/200\n",
            "16/16 [==============================] - 0s 4ms/step - loss: 0.0245 - mae: 0.1025 - val_loss: 0.1409 - val_mae: 0.2712\n",
            "Epoch 164/200\n",
            "16/16 [==============================] - 0s 4ms/step - loss: 0.0310 - mae: 0.1253 - val_loss: 0.1281 - val_mae: 0.2583\n",
            "Epoch 165/200\n",
            "16/16 [==============================] - 0s 4ms/step - loss: 0.0253 - mae: 0.1084 - val_loss: 0.1404 - val_mae: 0.2650\n",
            "Epoch 166/200\n",
            "16/16 [==============================] - 0s 5ms/step - loss: 0.0273 - mae: 0.1128 - val_loss: 0.1348 - val_mae: 0.2676\n",
            "Epoch 167/200\n",
            "16/16 [==============================] - 0s 4ms/step - loss: 0.0219 - mae: 0.1000 - val_loss: 0.1355 - val_mae: 0.2666\n",
            "Epoch 168/200\n",
            "16/16 [==============================] - 0s 5ms/step - loss: 0.0246 - mae: 0.1121 - val_loss: 0.1326 - val_mae: 0.2655\n",
            "Epoch 169/200\n",
            "16/16 [==============================] - 0s 5ms/step - loss: 0.0231 - mae: 0.0999 - val_loss: 0.1369 - val_mae: 0.2767\n",
            "Epoch 170/200\n",
            "16/16 [==============================] - 0s 4ms/step - loss: 0.0220 - mae: 0.1088 - val_loss: 0.1281 - val_mae: 0.2618\n",
            "Epoch 171/200\n",
            "16/16 [==============================] - 0s 4ms/step - loss: 0.0248 - mae: 0.1110 - val_loss: 0.1336 - val_mae: 0.2640\n",
            "Epoch 172/200\n",
            "16/16 [==============================] - 0s 4ms/step - loss: 0.0262 - mae: 0.1174 - val_loss: 0.1372 - val_mae: 0.2636\n",
            "Epoch 173/200\n",
            "16/16 [==============================] - 0s 4ms/step - loss: 0.0233 - mae: 0.1059 - val_loss: 0.1363 - val_mae: 0.2667\n",
            "Epoch 174/200\n",
            "16/16 [==============================] - 0s 4ms/step - loss: 0.0297 - mae: 0.1143 - val_loss: 0.1351 - val_mae: 0.2588\n",
            "Epoch 175/200\n",
            "16/16 [==============================] - 0s 4ms/step - loss: 0.0214 - mae: 0.0946 - val_loss: 0.1397 - val_mae: 0.2675\n",
            "Epoch 176/200\n",
            "16/16 [==============================] - 0s 4ms/step - loss: 0.0247 - mae: 0.1054 - val_loss: 0.1261 - val_mae: 0.2504\n",
            "Epoch 177/200\n",
            "16/16 [==============================] - 0s 4ms/step - loss: 0.0199 - mae: 0.0977 - val_loss: 0.1286 - val_mae: 0.2485\n",
            "Epoch 178/200\n",
            "16/16 [==============================] - 0s 4ms/step - loss: 0.0159 - mae: 0.0888 - val_loss: 0.1379 - val_mae: 0.2673\n",
            "Epoch 179/200\n",
            "16/16 [==============================] - 0s 4ms/step - loss: 0.0247 - mae: 0.1082 - val_loss: 0.1369 - val_mae: 0.2686\n",
            "Epoch 180/200\n",
            "16/16 [==============================] - 0s 5ms/step - loss: 0.0239 - mae: 0.0999 - val_loss: 0.1275 - val_mae: 0.2489\n",
            "Epoch 181/200\n",
            "16/16 [==============================] - 0s 4ms/step - loss: 0.0229 - mae: 0.0970 - val_loss: 0.1366 - val_mae: 0.2653\n",
            "Epoch 182/200\n",
            "16/16 [==============================] - 0s 4ms/step - loss: 0.0186 - mae: 0.0953 - val_loss: 0.1256 - val_mae: 0.2515\n",
            "Epoch 183/200\n",
            "16/16 [==============================] - 0s 4ms/step - loss: 0.0224 - mae: 0.1088 - val_loss: 0.1598 - val_mae: 0.2990\n",
            "Epoch 184/200\n",
            "16/16 [==============================] - 0s 4ms/step - loss: 0.0256 - mae: 0.1183 - val_loss: 0.1327 - val_mae: 0.2673\n",
            "Epoch 185/200\n",
            "16/16 [==============================] - 0s 5ms/step - loss: 0.0258 - mae: 0.1094 - val_loss: 0.1355 - val_mae: 0.2647\n",
            "Epoch 186/200\n",
            "16/16 [==============================] - 0s 4ms/step - loss: 0.0178 - mae: 0.0975 - val_loss: 0.1498 - val_mae: 0.2871\n",
            "Epoch 187/200\n",
            "16/16 [==============================] - 0s 4ms/step - loss: 0.0273 - mae: 0.1155 - val_loss: 0.1274 - val_mae: 0.2526\n",
            "Epoch 188/200\n",
            "16/16 [==============================] - 0s 4ms/step - loss: 0.0188 - mae: 0.0930 - val_loss: 0.1391 - val_mae: 0.2729\n",
            "Epoch 189/200\n",
            "16/16 [==============================] - 0s 4ms/step - loss: 0.0164 - mae: 0.0925 - val_loss: 0.1247 - val_mae: 0.2491\n",
            "Epoch 190/200\n",
            "16/16 [==============================] - 0s 4ms/step - loss: 0.0268 - mae: 0.0997 - val_loss: 0.1375 - val_mae: 0.2778\n",
            "Epoch 191/200\n",
            "16/16 [==============================] - 0s 4ms/step - loss: 0.0278 - mae: 0.1195 - val_loss: 0.1331 - val_mae: 0.2600\n",
            "Epoch 192/200\n",
            "16/16 [==============================] - 0s 4ms/step - loss: 0.0176 - mae: 0.0945 - val_loss: 0.1505 - val_mae: 0.2791\n",
            "Epoch 193/200\n",
            "16/16 [==============================] - 0s 5ms/step - loss: 0.0198 - mae: 0.0995 - val_loss: 0.1329 - val_mae: 0.2599\n",
            "Epoch 194/200\n",
            "16/16 [==============================] - 0s 4ms/step - loss: 0.0243 - mae: 0.1101 - val_loss: 0.1281 - val_mae: 0.2616\n",
            "Epoch 195/200\n",
            "16/16 [==============================] - 0s 4ms/step - loss: 0.0198 - mae: 0.0975 - val_loss: 0.1480 - val_mae: 0.2836\n",
            "Epoch 196/200\n",
            "16/16 [==============================] - 0s 5ms/step - loss: 0.0296 - mae: 0.1230 - val_loss: 0.1339 - val_mae: 0.2572\n",
            "Epoch 197/200\n",
            "16/16 [==============================] - 0s 4ms/step - loss: 0.0166 - mae: 0.0912 - val_loss: 0.1340 - val_mae: 0.2587\n",
            "Epoch 198/200\n",
            "16/16 [==============================] - 0s 4ms/step - loss: 0.0214 - mae: 0.1013 - val_loss: 0.1281 - val_mae: 0.2538\n",
            "Epoch 199/200\n",
            "16/16 [==============================] - 0s 5ms/step - loss: 0.0193 - mae: 0.0936 - val_loss: 0.1283 - val_mae: 0.2543\n",
            "Epoch 200/200\n",
            "16/16 [==============================] - 0s 5ms/step - loss: 0.0192 - mae: 0.0877 - val_loss: 0.1319 - val_mae: 0.2648\n"
          ],
          "name": "stdout"
        }
      ]
    },
    {
      "cell_type": "code",
      "metadata": {
        "colab": {
          "base_uri": "https://localhost:8080/"
        },
        "id": "2vPg6CnpwQPq",
        "outputId": "5182d0f0-8e22-48c1-856c-1aadb89cbc2c"
      },
      "source": [
        "history.history.keys()"
      ],
      "execution_count": 29,
      "outputs": [
        {
          "output_type": "execute_result",
          "data": {
            "text/plain": [
              "dict_keys(['loss', 'mae', 'val_loss', 'val_mae'])"
            ]
          },
          "metadata": {
            "tags": []
          },
          "execution_count": 29
        }
      ]
    },
    {
      "cell_type": "code",
      "metadata": {
        "colab": {
          "base_uri": "https://localhost:8080/"
        },
        "id": "YWD6P7P1wVcE",
        "outputId": "485a7d96-0951-499f-8b05-99af334113ca"
      },
      "source": [
        "loss,mae=network.evaluate(X_test,Y_test)"
      ],
      "execution_count": 30,
      "outputs": [
        {
          "output_type": "stream",
          "text": [
            "10/10 [==============================] - 0s 2ms/step - loss: 0.1298 - mae: 0.2409\n"
          ],
          "name": "stdout"
        }
      ]
    },
    {
      "cell_type": "code",
      "metadata": {
        "id": "AgMdd4wawa9K"
      },
      "source": [
        "val_mae = history.history['val_mae']\n",
        "val_loss = history.history['val_loss']"
      ],
      "execution_count": 31,
      "outputs": []
    },
    {
      "cell_type": "code",
      "metadata": {
        "colab": {
          "base_uri": "https://localhost:8080/",
          "height": 295
        },
        "id": "M9C1_NW0wyp9",
        "outputId": "0b9f118d-0804-4292-cf9c-9a39d000bfdb"
      },
      "source": [
        "import matplotlib.pyplot as plt \n",
        "history_dict = history.history\n",
        "loss_values = history_dict['loss']\n",
        "val_loss_values = history_dict['val_loss']\n",
        "epochs = range(200)\n",
        "plt.plot(epochs, loss_values, 'bo', label='Training loss')\n",
        "plt.plot(epochs, val_loss_values, 'b', label='Validation loss')\n",
        "plt.title('Training and validation loss')\n",
        "plt.xlabel('Epochs')\n",
        "plt.ylabel('Loss')\n",
        "plt.legend()\n",
        "plt.show()"
      ],
      "execution_count": 32,
      "outputs": [
        {
          "output_type": "display_data",
          "data": {
            "image/png": "[encoded data removed]",
            "text/plain": [
              "<Figure size 432x288 with 1 Axes>"
            ]
          },
          "metadata": {
            "tags": [],
            "needs_background": "light"
          }
        }
      ]
    },
    {
      "cell_type": "code",
      "metadata": {
        "colab": {
          "base_uri": "https://localhost:8080/",
          "height": 295
        },
        "id": "3Xssx-6iw2AK",
        "outputId": "0e6da137-52dc-44fc-c0a6-0dcc150fe030"
      },
      "source": [
        "import matplotlib.pyplot as plt \n",
        "acc_values = history_dict['mae']\n",
        "val_acc_values = history_dict['val_mae']\n",
        "plt.plot(epochs, acc_values, 'bo', label='Training mae')\n",
        "plt.plot(epochs, val_acc_values, 'b', label='Validation mae')\n",
        "plt.title('Training and validation accuracy')\n",
        "plt.xlabel('Epochs')\n",
        "plt.ylabel('mae')\n",
        "plt.legend()\n",
        "plt.show()"
      ],
      "execution_count": 33,
      "outputs": [
        {
          "output_type": "display_data",
          "data": {
            "image/png": "[encoded data removed]",
            "text/plain": [
              "<Figure size 432x288 with 1 Axes>"
            ]
          },
          "metadata": {
            "tags": [],
            "needs_background": "light"
          }
        }
      ]
    },
    {
      "cell_type": "code",
      "metadata": {
        "id": "HTjDwQfow5o5"
      },
      "source": [
        "y_pred = network.predict(X_test)"
      ],
      "execution_count": 34,
      "outputs": []
    },
    {
      "cell_type": "code",
      "metadata": {
        "id": "ZoWKo4n4w80t"
      },
      "source": [
        "def denorm(x):\n",
        "    return (x * Y_std) + Y_mean"
      ],
      "execution_count": 35,
      "outputs": []
    },
    {
      "cell_type": "code",
      "metadata": {
        "id": "XUPC2ZsJw_1h"
      },
      "source": [
        "y_pred = denorm(y_pred)"
      ],
      "execution_count": 36,
      "outputs": []
    },
    {
      "cell_type": "code",
      "metadata": {
        "id": "qzBizBoJxSCN"
      },
      "source": [
        "y_true = denorm(Y_test)"
      ],
      "execution_count": 40,
      "outputs": []
    },
    {
      "cell_type": "code",
      "metadata": {
        "id": "Z2XI_h02xDHD"
      },
      "source": [
        "y_pred = y_pred.flatten()"
      ],
      "execution_count": 37,
      "outputs": []
    },
    {
      "cell_type": "code",
      "metadata": {
        "colab": {
          "base_uri": "https://localhost:8080/"
        },
        "id": "HFAclp1OxE9K",
        "outputId": "dba47d89-c8a7-4d70-ff6b-079f2acab22c"
      },
      "source": [
        "y_pred.shape"
      ],
      "execution_count": 38,
      "outputs": [
        {
          "output_type": "execute_result",
          "data": {
            "text/plain": [
              "(309,)"
            ]
          },
          "metadata": {
            "tags": []
          },
          "execution_count": 38
        }
      ]
    },
    {
      "cell_type": "code",
      "metadata": {
        "colab": {
          "base_uri": "https://localhost:8080/"
        },
        "id": "cHuWJToNxG-8",
        "outputId": "28d0f0cc-c2d5-48cf-b1b2-73c810e5a429"
      },
      "source": [
        "y_true.shape"
      ],
      "execution_count": 41,
      "outputs": [
        {
          "output_type": "execute_result",
          "data": {
            "text/plain": [
              "(309,)"
            ]
          },
          "metadata": {
            "tags": []
          },
          "execution_count": 41
        }
      ]
    },
    {
      "cell_type": "code",
      "metadata": {
        "colab": {
          "base_uri": "https://localhost:8080/",
          "height": 286
        },
        "id": "hXTJE9S-xJBk",
        "outputId": "99f04a1f-242a-48e9-e4ca-79c9551b7f64"
      },
      "source": [
        "import matplotlib.pyplot as plt\n",
        "coef = np.polyfit(y_true,y_pred,1)\n",
        "poly1d_fn = np.poly1d(coef) \n",
        "# poly1d_fn is now a function which takes in x and returns an estimate for y\n",
        "\n",
        "plt.plot(y_true,y_pred, 'yo', y_true, poly1d_fn(y_true), '--k')\n",
        "plt.xlim(0, 100)\n",
        "plt.ylim(0, 100)"
      ],
      "execution_count": 44,
      "outputs": [
        {
          "output_type": "execute_result",
          "data": {
            "text/plain": [
              "(0.0, 100.0)"
            ]
          },
          "metadata": {
            "tags": []
          },
          "execution_count": 44
        },
        {
          "output_type": "display_data",
          "data": {
            "image/png": "[encoded data removed]",
            "text/plain": [
              "<Figure size 432x288 with 1 Axes>"
            ]
          },
          "metadata": {
            "tags": [],
            "needs_background": "light"
          }
        }
      ]
    },
    {
      "cell_type": "code",
      "metadata": {
        "id": "2CH47hnWxY8E"
      },
      "source": [
        ""
      ],
      "execution_count": null,
      "outputs": []
    }
  ]
}