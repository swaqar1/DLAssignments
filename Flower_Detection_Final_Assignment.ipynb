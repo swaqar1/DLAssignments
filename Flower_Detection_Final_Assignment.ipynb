{
  "nbformat": 4,
  "nbformat_minor": 0,
  "metadata": {
    "colab": {
      "name": "Flower_Detection_Final_Assignment.ipynb",
      "provenance": []
    },
    "kernelspec": {
      "name": "python3",
      "display_name": "Python 3"
    },
    "language_info": {
      "name": "python"
    },
    "accelerator": "GPU"
  },
  "cells": [
    {
      "cell_type": "markdown",
      "metadata": {
        "id": "Y77oajNo0Ksj"
      },
      "source": [
        "\n",
        "# Assignment: Flowers Recognition\n",
        "\n",
        "Dataset Description:\n",
        "\n",
        "This dataset contains 4242 images of flowers.\n",
        "The data collection is based on the data flicr, google images, yandex images.\n",
        "You can use this datastet to recognize plants from the photo.\n",
        "\n",
        "Attribute Information:\n",
        "The pictures are divided into five classes: chamomile, tulip, rose, sunflower, dandelion.\n",
        "For each class there are about 800 photos. Photos are not high resolution, about 320x240 pixels.\n",
        "Also explore how to resize images in tensorflow and then resize all the images to a same size.\n",
        "This is a Multiclass Classification Problem.\n",
        "\n",
        "WORKFLOW :\n",
        "\n",
        "Load Data\n",
        "\n",
        "Split into 60 and 40 ratio.\n",
        "\n",
        "Encode labels.\n",
        "\n",
        "Create Model\n",
        "\n",
        "Compilation Step (Note : Its a Multiclass Classification problem , select loss ,metrics according to it)\n",
        "\n",
        "Train the Model.\n",
        "\n",
        "If the model gets overfit tune your model by changing the units , No. of layers ,epochs, add dropout layer or add Regularizer according to the need.\n",
        "\n",
        "Prediction should be > 85%\n",
        "\n",
        "Evaluation Step\n",
        "\n",
        "Prediction"
      ]
    },
    {
      "cell_type": "code",
      "metadata": {
        "id": "PGYTLZgn0M2l"
      },
      "source": [
        "import numpy as np\n",
        "import pandas as pd\n",
        "import tensorflow as tf\n",
        "from tensorflow.keras import models, layers, optimizers\n",
        "from tensorflow.keras.preprocessing.image import ImageDataGenerator\n",
        "from tensorflow.keras.layers import Dense, Flatten\n",
        "import matplotlib.pyplot as plt"
      ],
      "execution_count": 2,
      "outputs": []
    },
    {
      "cell_type": "markdown",
      "metadata": {
        "id": "IBYXzsly1dBG"
      },
      "source": [
        "# **Loading File & Converting**"
      ]
    },
    {
      "cell_type": "code",
      "metadata": {
        "colab": {
          "base_uri": "https://localhost:8080/"
        },
        "id": "xQCt63kO0tHj",
        "outputId": "13c8bbb2-fc64-45ba-d0c1-09411e65f6b8"
      },
      "source": [
        "val_batch = 10\n",
        "train_batch = 32\n",
        "train_datagen = ImageDataGenerator(\n",
        "        rescale=1./255,\n",
        "        validation_split=0.30,\n",
        "        )\n",
        "train_generator = train_datagen.flow_from_directory(\n",
        "        '/content/drive/MyDrive/Colab Notebooks/flowers',\n",
        "        target_size=(80, 80),\n",
        "        batch_size=train_batch,\n",
        "        class_mode='categorical',\n",
        "        subset = 'training',\n",
        "        color_mode = 'grayscale',\n",
        "        shuffle = True,\n",
        "        )\n",
        "validation_generator = train_datagen.flow_from_directory(\n",
        "        '/content/drive/MyDrive/Colab Notebooks/flowers',\n",
        "        target_size=(80, 80),\n",
        "        batch_size=val_batch,\n",
        "        class_mode='categorical',\n",
        "        subset = 'validation',\n",
        "        color_mode = 'grayscale',\n",
        "        shuffle= True)\n"
      ],
      "execution_count": 3,
      "outputs": [
        {
          "output_type": "stream",
          "text": [
            "Found 3028 images belonging to 5 classes.\n",
            "Found 1295 images belonging to 5 classes.\n"
          ],
          "name": "stdout"
        }
      ]
    },
    {
      "cell_type": "code",
      "metadata": {
        "id": "0RrxUrJw1z-Z",
        "colab": {
          "base_uri": "https://localhost:8080/"
        },
        "outputId": "7938d724-1dbd-4772-df72-0efcd3973512"
      },
      "source": [
        "train_generator.class_indices"
      ],
      "execution_count": 4,
      "outputs": [
        {
          "output_type": "execute_result",
          "data": {
            "text/plain": [
              "{'daisy': 0, 'dandelion': 1, 'rose': 2, 'sunflower': 3, 'tulip': 4}"
            ]
          },
          "metadata": {
            "tags": []
          },
          "execution_count": 4
        }
      ]
    },
    {
      "cell_type": "code",
      "metadata": {
        "colab": {
          "base_uri": "https://localhost:8080/"
        },
        "id": "tbyUKhveF12L",
        "outputId": "888d0f05-85c3-4cdd-bbcc-cfb9f3da4826"
      },
      "source": [
        "type(train_datagen)"
      ],
      "execution_count": 5,
      "outputs": [
        {
          "output_type": "execute_result",
          "data": {
            "text/plain": [
              "tensorflow.python.keras.preprocessing.image.ImageDataGenerator"
            ]
          },
          "metadata": {
            "tags": []
          },
          "execution_count": 5
        }
      ]
    },
    {
      "cell_type": "code",
      "metadata": {
        "colab": {
          "base_uri": "https://localhost:8080/"
        },
        "id": "u_Fc-_0MF379",
        "outputId": "f6638fb8-f1c1-4636-efa7-6e1b2ecafa48"
      },
      "source": [
        "type(train_generator)"
      ],
      "execution_count": 6,
      "outputs": [
        {
          "output_type": "execute_result",
          "data": {
            "text/plain": [
              "tensorflow.python.keras.preprocessing.image.DirectoryIterator"
            ]
          },
          "metadata": {
            "tags": []
          },
          "execution_count": 6
        }
      ]
    },
    {
      "cell_type": "code",
      "metadata": {
        "colab": {
          "base_uri": "https://localhost:8080/"
        },
        "id": "tD8q8zacF6EU",
        "outputId": "645c09d4-068e-4f5b-822a-94826981203d"
      },
      "source": [
        "train_generator[31][1].shape"
      ],
      "execution_count": 7,
      "outputs": [
        {
          "output_type": "execute_result",
          "data": {
            "text/plain": [
              "(32, 5)"
            ]
          },
          "metadata": {
            "tags": []
          },
          "execution_count": 7
        }
      ]
    },
    {
      "cell_type": "code",
      "metadata": {
        "id": "b44oIkQCF8KA"
      },
      "source": [
        "from tensorflow.keras.models import Sequential\n",
        "from tensorflow.keras.layers import Dense, Dropout,Flatten\n",
        "model = Sequential()\n",
        "model.add(Flatten())\n",
        "model.add(Dense(10, activation='relu'))\n",
        "model.add(Dense(8, activation='relu'))\n",
        "model.add(Dense(5,  activation='softmax'))"
      ],
      "execution_count": 8,
      "outputs": []
    },
    {
      "cell_type": "code",
      "metadata": {
        "id": "VEv89gWkGLkn"
      },
      "source": [
        "model.compile(optimizer='rmsprop',\n",
        "loss='categorical_crossentropy',\n",
        "metrics=['accuracy'])"
      ],
      "execution_count": 9,
      "outputs": []
    },
    {
      "cell_type": "code",
      "metadata": {
        "colab": {
          "base_uri": "https://localhost:8080/"
        },
        "id": "NOslSZ6xGOyN",
        "outputId": "7cdd54fb-bd0e-4c6c-e6e4-9be5f803c1e0"
      },
      "source": [
        "with tf.device('/device:GPU:0'):\n",
        "    result = model.fit(\n",
        "          train_generator,\n",
        "          steps_per_epoch = 20,\n",
        "          batch_size = train_batch,\n",
        "          validation_data = validation_generator,\n",
        "          validation_batch_size= val_batch,\n",
        "          epochs=20)"
      ],
      "execution_count": null,
      "outputs": [
        {
          "output_type": "stream",
          "text": [
            "Epoch 1/20\n",
            "20/20 [==============================] - ETA: 0s - loss: 1.8744 - accuracy: 0.2218 "
          ],
          "name": "stdout"
        }
      ]
    },
    {
      "cell_type": "code",
      "metadata": {
        "id": "PSLVokSqGRzN"
      },
      "source": [
        "model.evaluate(validation_generator)"
      ],
      "execution_count": null,
      "outputs": []
    },
    {
      "cell_type": "code",
      "metadata": {
        "id": "Ur0MQpKBGUK-"
      },
      "source": [
        "x = result.history.keys()\n",
        "x"
      ],
      "execution_count": null,
      "outputs": []
    },
    {
      "cell_type": "code",
      "metadata": {
        "id": "FuDQApWGGco2"
      },
      "source": [
        "plt.plot(result.history['accuracy'])\n",
        "plt.plot(result.history['val_accuracy'])\n",
        "plt.title('model accuracy')\n",
        "plt.ylabel('accuracy')\n",
        "plt.xlabel('epoch')\n",
        "plt.legend(['train', 'test'], loc='upper left')\n",
        "plt.show()\n",
        "# summarize history for loss\n",
        "plt.plot(result.history['loss'])\n",
        "plt.plot(result.history['val_loss'])\n",
        "plt.title('model loss')\n",
        "plt.ylabel('loss')\n",
        "plt.xlabel('epoch')\n",
        "plt.legend(['train', 'test'], loc='upper left')\n",
        "plt.show()"
      ],
      "execution_count": null,
      "outputs": []
    },
    {
      "cell_type": "code",
      "metadata": {
        "id": "SpzOngT8GjEu"
      },
      "source": [
        "y_pred1 = model.predict(validation_generator)"
      ],
      "execution_count": null,
      "outputs": []
    },
    {
      "cell_type": "code",
      "metadata": {
        "id": "Y1WUOcCCGlTq"
      },
      "source": [
        "y_pred1.shape"
      ],
      "execution_count": null,
      "outputs": []
    },
    {
      "cell_type": "code",
      "metadata": {
        "id": "fDn0_sNaGnVF"
      },
      "source": [
        "list1 = []\n",
        "for i in range(0,len(validation_generator)):\n",
        "    for j in range(0,val_batch):\n",
        "        try:\n",
        "              list1.append(validation_generator[i][1][j].tolist())\n",
        "        except:\n",
        "              break"
      ],
      "execution_count": null,
      "outputs": []
    },
    {
      "cell_type": "code",
      "metadata": {
        "id": "jcZWAVnoGpfv"
      },
      "source": [
        "np.argmax(y_pred1, axis=1)[0:30]"
      ],
      "execution_count": null,
      "outputs": []
    },
    {
      "cell_type": "code",
      "metadata": {
        "id": "4ZOYooDmGr9-"
      },
      "source": [
        "np.argmax(list1[0:30],axis=1)"
      ],
      "execution_count": null,
      "outputs": []
    }
  ]
}