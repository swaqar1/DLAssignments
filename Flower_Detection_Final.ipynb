{
  "nbformat": 4,
  "nbformat_minor": 0,
  "metadata": {
    "colab": {
      "name": "Flower_Detection_Final_Assignment.ipynb",
      "provenance": [],
      "collapsed_sections": []
    },
    "kernelspec": {
      "name": "python3",
      "display_name": "Python 3"
    },
    "language_info": {
      "name": "python"
    },
    "accelerator": "GPU"
  },
  "cells": [
    {
      "cell_type": "markdown",
      "metadata": {
        "id": "Y77oajNo0Ksj"
      },
      "source": [
        "\n",
        "# Assignment: Flowers Recognition\n",
        "\n",
        "Dataset Description:\n",
        "\n",
        "This dataset contains 4242 images of flowers.\n",
        "The data collection is based on the data flicr, google images, yandex images.\n",
        "You can use this datastet to recognize plants from the photo.\n",
        "\n",
        "Attribute Information:\n",
        "The pictures are divided into five classes: chamomile, tulip, rose, sunflower, dandelion.\n",
        "For each class there are about 800 photos. Photos are not high resolution, about 320x240 pixels.\n",
        "Also explore how to resize images in tensorflow and then resize all the images to a same size.\n",
        "This is a Multiclass Classification Problem.\n",
        "\n",
        "WORKFLOW :\n",
        "\n",
        "Load Data\n",
        "\n",
        "Split into 60 and 40 ratio.\n",
        "\n",
        "Encode labels.\n",
        "\n",
        "Create Model\n",
        "\n",
        "Compilation Step (Note : Its a Multiclass Classification problem , select loss ,metrics according to it)\n",
        "\n",
        "Train the Model.\n",
        "\n",
        "If the model gets overfit tune your model by changing the units , No. of layers ,epochs, add dropout layer or add Regularizer according to the need.\n",
        "\n",
        "Prediction should be > 85%\n",
        "\n",
        "Evaluation Step\n",
        "\n",
        "Prediction"
      ]
    },
    {
      "cell_type": "code",
      "metadata": {
        "id": "PGYTLZgn0M2l"
      },
      "source": [
        "import numpy as np\n",
        "import pandas as pd\n",
        "import tensorflow as tf\n",
        "from tensorflow.keras import models, layers, optimizers\n",
        "from tensorflow.keras.preprocessing.image import ImageDataGenerator\n",
        "from tensorflow.keras.layers import Dense, Flatten\n",
        "import matplotlib.pyplot as plt"
      ],
      "execution_count": 1,
      "outputs": []
    },
    {
      "cell_type": "markdown",
      "metadata": {
        "id": "IBYXzsly1dBG"
      },
      "source": [
        "# **Loading File & Converting**"
      ]
    },
    {
      "cell_type": "code",
      "metadata": {
        "colab": {
          "base_uri": "https://localhost:8080/"
        },
        "id": "xQCt63kO0tHj",
        "outputId": "1d385e0a-6b27-426c-d42b-05f2afcbf2ba"
      },
      "source": [
        "val_batch = 10\n",
        "train_batch = 32\n",
        "train_datagen = ImageDataGenerator(\n",
        "        rescale=1./255,\n",
        "        validation_split=0.30,\n",
        "        )\n",
        "train_generator = train_datagen.flow_from_directory(\n",
        "        '/content/drive/MyDrive/Colab Notebooks/flowers',\n",
        "        target_size=(80, 80),\n",
        "        batch_size=train_batch,\n",
        "        class_mode='categorical',\n",
        "        subset = 'training',\n",
        "        color_mode = 'grayscale',\n",
        "        shuffle = True,\n",
        "        )\n",
        "validation_generator = train_datagen.flow_from_directory(\n",
        "        '/content/drive/MyDrive/Colab Notebooks/flowers',\n",
        "        target_size=(80, 80),\n",
        "        batch_size=val_batch,\n",
        "        class_mode='categorical',\n",
        "        subset = 'validation',\n",
        "        color_mode = 'grayscale',\n",
        "        shuffle= True)\n"
      ],
      "execution_count": 2,
      "outputs": [
        {
          "output_type": "stream",
          "text": [
            "Found 3028 images belonging to 5 classes.\n",
            "Found 1295 images belonging to 5 classes.\n"
          ],
          "name": "stdout"
        }
      ]
    },
    {
      "cell_type": "code",
      "metadata": {
        "id": "0RrxUrJw1z-Z",
        "colab": {
          "base_uri": "https://localhost:8080/"
        },
        "outputId": "ba7defb5-457d-4c85-8dda-d7501348bf3c"
      },
      "source": [
        "train_generator.class_indices"
      ],
      "execution_count": 3,
      "outputs": [
        {
          "output_type": "execute_result",
          "data": {
            "text/plain": [
              "{'daisy': 0, 'dandelion': 1, 'rose': 2, 'sunflower': 3, 'tulip': 4}"
            ]
          },
          "metadata": {
            "tags": []
          },
          "execution_count": 3
        }
      ]
    },
    {
      "cell_type": "code",
      "metadata": {
        "colab": {
          "base_uri": "https://localhost:8080/"
        },
        "id": "tbyUKhveF12L",
        "outputId": "5ead0ede-0f96-4a80-ba50-a1247281a19d"
      },
      "source": [
        "type(train_datagen)"
      ],
      "execution_count": 4,
      "outputs": [
        {
          "output_type": "execute_result",
          "data": {
            "text/plain": [
              "tensorflow.python.keras.preprocessing.image.ImageDataGenerator"
            ]
          },
          "metadata": {
            "tags": []
          },
          "execution_count": 4
        }
      ]
    },
    {
      "cell_type": "code",
      "metadata": {
        "colab": {
          "base_uri": "https://localhost:8080/"
        },
        "id": "u_Fc-_0MF379",
        "outputId": "bc1f8f00-ea7a-4780-d792-c4d777a20e50"
      },
      "source": [
        "type(train_generator)"
      ],
      "execution_count": 5,
      "outputs": [
        {
          "output_type": "execute_result",
          "data": {
            "text/plain": [
              "tensorflow.python.keras.preprocessing.image.DirectoryIterator"
            ]
          },
          "metadata": {
            "tags": []
          },
          "execution_count": 5
        }
      ]
    },
    {
      "cell_type": "code",
      "metadata": {
        "colab": {
          "base_uri": "https://localhost:8080/"
        },
        "id": "tD8q8zacF6EU",
        "outputId": "27668c62-b2cd-4acb-9499-903fc6cdac32"
      },
      "source": [
        "train_generator[31][1].shape"
      ],
      "execution_count": 6,
      "outputs": [
        {
          "output_type": "execute_result",
          "data": {
            "text/plain": [
              "(32, 5)"
            ]
          },
          "metadata": {
            "tags": []
          },
          "execution_count": 6
        }
      ]
    },
    {
      "cell_type": "code",
      "metadata": {
        "id": "b44oIkQCF8KA"
      },
      "source": [
        "from tensorflow.keras.models import Sequential\n",
        "from tensorflow.keras.layers import Dense, Dropout,Flatten\n",
        "model = Sequential()\n",
        "model.add(Flatten())\n",
        "model.add(Dense(10, activation='relu'))\n",
        "model.add(Dense(8, activation='relu'))\n",
        "model.add(Dense(5,  activation='softmax'))"
      ],
      "execution_count": 7,
      "outputs": []
    },
    {
      "cell_type": "code",
      "metadata": {
        "id": "VEv89gWkGLkn"
      },
      "source": [
        "model.compile(optimizer='rmsprop',\n",
        "loss='categorical_crossentropy',\n",
        "metrics=['accuracy'])"
      ],
      "execution_count": 8,
      "outputs": []
    },
    {
      "cell_type": "code",
      "metadata": {
        "colab": {
          "base_uri": "https://localhost:8080/"
        },
        "id": "NOslSZ6xGOyN",
        "outputId": "35514cf6-9fe6-45f5-e7d6-8d57453fa526"
      },
      "source": [
        "with tf.device('/device:GPU:0'):\n",
        "    result = model.fit(\n",
        "          train_generator,\n",
        "          steps_per_epoch = 20,\n",
        "          batch_size = train_batch,\n",
        "          validation_data = validation_generator,\n",
        "          validation_batch_size= val_batch,\n",
        "          epochs=20)"
      ],
      "execution_count": 9,
      "outputs": [
        {
          "output_type": "stream",
          "text": [
            "Epoch 1/20\n",
            "20/20 [==============================] - 466s 24s/step - loss: 2.1723 - accuracy: 0.1887 - val_loss: 1.6083 - val_accuracy: 0.2463\n",
            "Epoch 2/20\n",
            "20/20 [==============================] - 114s 6s/step - loss: 1.6083 - accuracy: 0.2361 - val_loss: 1.6069 - val_accuracy: 0.2448\n",
            "Epoch 3/20\n",
            "20/20 [==============================] - 93s 5s/step - loss: 1.7151 - accuracy: 0.2696 - val_loss: 1.6059 - val_accuracy: 0.2432\n",
            "Epoch 4/20\n",
            "20/20 [==============================] - 76s 4s/step - loss: 1.6061 - accuracy: 0.2379 - val_loss: 1.6047 - val_accuracy: 0.2432\n",
            "Epoch 5/20\n",
            "20/20 [==============================] - 58s 3s/step - loss: 1.6115 - accuracy: 0.2171 - val_loss: 1.6017 - val_accuracy: 0.2494\n",
            "Epoch 6/20\n",
            "20/20 [==============================] - 48s 2s/step - loss: 1.5996 - accuracy: 0.2124 - val_loss: 1.5843 - val_accuracy: 0.2147\n",
            "Epoch 7/20\n",
            "20/20 [==============================] - 42s 2s/step - loss: 1.6125 - accuracy: 0.1856 - val_loss: 1.5886 - val_accuracy: 0.2479\n",
            "Epoch 8/20\n",
            "20/20 [==============================] - 30s 2s/step - loss: 1.5864 - accuracy: 0.2370 - val_loss: 1.5854 - val_accuracy: 0.2093\n",
            "Epoch 9/20\n",
            "20/20 [==============================] - 28s 1s/step - loss: 1.5957 - accuracy: 0.2334 - val_loss: 1.5837 - val_accuracy: 0.2440\n",
            "Epoch 10/20\n",
            "20/20 [==============================] - 25s 1s/step - loss: 1.5778 - accuracy: 0.2570 - val_loss: 1.5710 - val_accuracy: 0.2371\n",
            "Epoch 11/20\n",
            "20/20 [==============================] - 17s 862ms/step - loss: 1.5790 - accuracy: 0.2189 - val_loss: 1.5649 - val_accuracy: 0.2409\n",
            "Epoch 12/20\n",
            "20/20 [==============================] - 15s 763ms/step - loss: 1.5604 - accuracy: 0.2524 - val_loss: 1.5690 - val_accuracy: 0.2178\n",
            "Epoch 13/20\n",
            "20/20 [==============================] - 15s 793ms/step - loss: 1.5659 - accuracy: 0.2217 - val_loss: 1.5745 - val_accuracy: 0.2154\n",
            "Epoch 14/20\n",
            "20/20 [==============================] - 11s 564ms/step - loss: 1.5380 - accuracy: 0.2700 - val_loss: 1.5945 - val_accuracy: 0.2263\n",
            "Epoch 15/20\n",
            "20/20 [==============================] - 9s 443ms/step - loss: 1.5478 - accuracy: 0.2668 - val_loss: 1.5563 - val_accuracy: 0.2463\n",
            "Epoch 16/20\n",
            "20/20 [==============================] - 9s 451ms/step - loss: 1.5729 - accuracy: 0.2324 - val_loss: 1.5515 - val_accuracy: 0.3004\n",
            "Epoch 17/20\n",
            "20/20 [==============================] - 9s 494ms/step - loss: 1.5283 - accuracy: 0.2800 - val_loss: 1.5451 - val_accuracy: 0.3012\n",
            "Epoch 18/20\n",
            "20/20 [==============================] - 8s 429ms/step - loss: 1.5346 - accuracy: 0.3152 - val_loss: 1.5463 - val_accuracy: 0.3027\n",
            "Epoch 19/20\n",
            "20/20 [==============================] - 8s 409ms/step - loss: 1.5590 - accuracy: 0.3259 - val_loss: 1.6028 - val_accuracy: 0.2494\n",
            "Epoch 20/20\n",
            "20/20 [==============================] - 9s 444ms/step - loss: 1.5756 - accuracy: 0.2466 - val_loss: 1.5408 - val_accuracy: 0.2996\n"
          ],
          "name": "stdout"
        }
      ]
    },
    {
      "cell_type": "code",
      "metadata": {
        "colab": {
          "base_uri": "https://localhost:8080/"
        },
        "id": "PSLVokSqGRzN",
        "outputId": "d0374c18-81d8-481d-adcd-bf345830cb88"
      },
      "source": [
        "model.evaluate(validation_generator)"
      ],
      "execution_count": 10,
      "outputs": [
        {
          "output_type": "stream",
          "text": [
            "130/130 [==============================] - 5s 34ms/step - loss: 1.5408 - accuracy: 0.2996\n"
          ],
          "name": "stdout"
        },
        {
          "output_type": "execute_result",
          "data": {
            "text/plain": [
              "[1.5408194065093994, 0.299613893032074]"
            ]
          },
          "metadata": {
            "tags": []
          },
          "execution_count": 10
        }
      ]
    },
    {
      "cell_type": "code",
      "metadata": {
        "colab": {
          "base_uri": "https://localhost:8080/"
        },
        "id": "Ur0MQpKBGUK-",
        "outputId": "780ab961-87c1-43b4-e43c-7d606174b032"
      },
      "source": [
        "x = result.history.keys()\n",
        "x"
      ],
      "execution_count": 11,
      "outputs": [
        {
          "output_type": "execute_result",
          "data": {
            "text/plain": [
              "dict_keys(['loss', 'accuracy', 'val_loss', 'val_accuracy'])"
            ]
          },
          "metadata": {
            "tags": []
          },
          "execution_count": 11
        }
      ]
    },
    {
      "cell_type": "code",
      "metadata": {
        "colab": {
          "base_uri": "https://localhost:8080/",
          "height": 573
        },
        "id": "FuDQApWGGco2",
        "outputId": "087b018a-7baf-4dfa-8dd7-324c7d0d9ae1"
      },
      "source": [
        "plt.plot(result.history['accuracy'])\n",
        "plt.plot(result.history['val_accuracy'])\n",
        "plt.title('model accuracy')\n",
        "plt.ylabel('accuracy')\n",
        "plt.xlabel('epoch')\n",
        "plt.legend(['train', 'test'], loc='upper left')\n",
        "plt.show()\n",
        "# summarize history for loss\n",
        "plt.plot(result.history['loss'])\n",
        "plt.plot(result.history['val_loss'])\n",
        "plt.title('model loss')\n",
        "plt.ylabel('loss')\n",
        "plt.xlabel('epoch')\n",
        "plt.legend(['train', 'test'], loc='upper left')\n",
        "plt.show()"
      ],
      "execution_count": 12,
      "outputs": [
        {
          "output_type": "display_data",
          "data": {
            "image/png": "[encoded data removed]",
            "text/plain": [
              "<Figure size 432x288 with 1 Axes>"
            ]
          },
          "metadata": {
            "tags": [],
            "needs_background": "light"
          }
        },
        {
          "output_type": "display_data",
          "data": {
            "image/png": "[encoded data removed]",
            "text/plain": [
              "<Figure size 432x288 with 1 Axes>"
            ]
          },
          "metadata": {
            "tags": [],
            "needs_background": "light"
          }
        }
      ]
    },
    {
      "cell_type": "code",
      "metadata": {
        "id": "SpzOngT8GjEu"
      },
      "source": [
        "y_pred1 = model.predict(validation_generator)"
      ],
      "execution_count": 13,
      "outputs": []
    },
    {
      "cell_type": "code",
      "metadata": {
        "colab": {
          "base_uri": "https://localhost:8080/"
        },
        "id": "Y1WUOcCCGlTq",
        "outputId": "8a0adb9e-2c34-47a4-ce48-a152ebe60d5f"
      },
      "source": [
        "y_pred1.shape"
      ],
      "execution_count": 14,
      "outputs": [
        {
          "output_type": "execute_result",
          "data": {
            "text/plain": [
              "(1295, 5)"
            ]
          },
          "metadata": {
            "tags": []
          },
          "execution_count": 14
        }
      ]
    },
    {
      "cell_type": "code",
      "metadata": {
        "id": "fDn0_sNaGnVF"
      },
      "source": [
        "list1 = []\n",
        "for i in range(0,len(validation_generator)):\n",
        "    for j in range(0,val_batch):\n",
        "        try:\n",
        "              list1.append(validation_generator[i][1][j].tolist())\n",
        "        except:\n",
        "              break"
      ],
      "execution_count": 15,
      "outputs": []
    },
    {
      "cell_type": "code",
      "metadata": {
        "colab": {
          "base_uri": "https://localhost:8080/"
        },
        "id": "jcZWAVnoGpfv",
        "outputId": "1ef242b0-4452-4fd3-d17b-015a587205db"
      },
      "source": [
        "np.argmax(y_pred1, axis=1)[0:30]"
      ],
      "execution_count": 16,
      "outputs": [
        {
          "output_type": "execute_result",
          "data": {
            "text/plain": [
              "array([4, 1, 1, 4, 4, 4, 4, 1, 1, 4, 1, 1, 1, 1, 4, 4, 4, 4, 4, 4, 1, 4,\n",
              "       4, 1, 1, 1, 4, 1, 1, 4])"
            ]
          },
          "metadata": {
            "tags": []
          },
          "execution_count": 16
        }
      ]
    },
    {
      "cell_type": "code",
      "metadata": {
        "colab": {
          "base_uri": "https://localhost:8080/"
        },
        "id": "4ZOYooDmGr9-",
        "outputId": "c6160bb9-ab6f-4c32-afbe-3e7458e1403b"
      },
      "source": [
        "np.argmax(list1[0:30],axis=1)"
      ],
      "execution_count": 17,
      "outputs": [
        {
          "output_type": "execute_result",
          "data": {
            "text/plain": [
              "array([0, 2, 4, 4, 3, 2, 0, 4, 1, 4, 3, 4, 1, 0, 4, 0, 3, 3, 0, 1, 1, 3,\n",
              "       1, 4, 1, 1, 1, 4, 4, 1])"
            ]
          },
          "metadata": {
            "tags": []
          },
          "execution_count": 17
        }
      ]
    },
    {
      "cell_type": "code",
      "metadata": {
        "id": "uhDbOpJzqIuI"
      },
      "source": [
        ""
      ],
      "execution_count": null,
      "outputs": []
    }
  ]
}